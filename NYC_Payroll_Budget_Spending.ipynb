{
 "cells": [
  {
   "cell_type": "markdown",
   "metadata": {
    "id": "Jrl5sgQ5DAPM"
   },
   "source": [
    "# Uncovering city's budget spending on municipal employees payment\n",
    "\n",
    "\n",
    "\n",
    "\n",
    "\n",
    "**Project Objective:** The goal is to analyze and determine how the City's financial resources are distributed and how much of the budget is spent on overtime. \n",
    "\n",
    "**Motivation:** For the workers, they will benefit from knowing the allocations and average payment of municipal jobs in New York city, while the public will be interested in knowing how the city's budget is being spent. City planners could use this analysis to allocate promotions and fair salaries across different agencies. We will use Linear Regression Model to uncover the statistical relations between tenure, work hours, OT time, locations to predict gross salary of the worker.\n",
    "\n",
    "Data source: https://data.cityofnewyork.us/City-Government/Citywide-Payroll-Data-Fiscal-Year-/k397-673e"
   ]
  },
  {
   "cell_type": "markdown",
   "metadata": {
    "id": "5bwACiaxD26S"
   },
   "source": [
    "\n",
    "##  Approaches: Full data analysis cycle\n",
    "\n",
    "**1.   Data preparation**\n",
    "*   Data source piping to Big Query and Colab\n",
    "*   Identify data anomalies\n",
    "*   Interrogate column properties\n",
    "*   Resolve inconsistencies, unexpected or null values, and data quality issues\n",
    "\n",
    "**2.   Data modelling**\n",
    "*   Remove unnecessary rows and columns\n",
    "*   Define a relationship's cardinality and cross-filter direction\n",
    "*   Create a common date table\n",
    "*   Create calculated columns\n",
    "\n",
    "**3. Data Analytics**\n",
    "*   Apply slicers and filters\n",
    "*   Perform top N analysis\n",
    "*   Explore statistical summary\n",
    "*   Identify outliers\n",
    "*   Conduct Time Series analysis\n",
    "*   Use groupings and binnings\n",
    "*   Apply AI Insights\n",
    "\n",
    "**4. Data visualization**\n",
    "*   Add visualization items to sheets and dashboards\n",
    "*   Choose an appropriate visualization type\n",
    "*   Apply slicing and filtering\n",
    "*   Apply sorting \n",
    "*   Configure data classification\n",
    "*   Drilldown into data using interactive visuals\n",
    "*   Mobile view\n",
    "*   Publish\n",
    "\n",
    "\n",
    "\n",
    "\n",
    "\n",
    "\n",
    "\n",
    "\n",
    "\n",
    "\n",
    "\n",
    "\n",
    "\n",
    "\n",
    "\n",
    "\n"
   ]
  },
  {
   "cell_type": "markdown",
   "metadata": {
    "id": "_dAhax-4E1lR"
   },
   "source": [
    "## 1. Data Preparation\n",
    "\n",
    "\n",
    "\n"
   ]
  },
  {
   "cell_type": "markdown",
   "metadata": {
    "id": "7f0tACA77jI4"
   },
   "source": [
    "### Data Piping"
   ]
  },
  {
   "cell_type": "code",
   "execution_count": null,
   "metadata": {
    "id": "qXHKl2Jt0qMQ"
   },
   "outputs": [],
   "source": [
    "from google.colab import auth\n",
    "auth.authenticate_user()"
   ]
  },
  {
   "cell_type": "code",
   "execution_count": null,
   "metadata": {
    "colab": {
     "base_uri": "https://localhost:8080/",
     "height": 301
    },
    "id": "RNwmdY6zABzk",
    "outputId": "27937d31-e320-42b6-d76d-5a1ca55dba2b"
   },
   "outputs": [
    {
     "data": {
      "text/html": [
       "<div>\n",
       "<style scoped>\n",
       "    .dataframe tbody tr th:only-of-type {\n",
       "        vertical-align: middle;\n",
       "    }\n",
       "\n",
       "    .dataframe tbody tr th {\n",
       "        vertical-align: top;\n",
       "    }\n",
       "\n",
       "    .dataframe thead th {\n",
       "        text-align: right;\n",
       "    }\n",
       "</style>\n",
       "<table border=\"1\" class=\"dataframe\">\n",
       "  <thead>\n",
       "    <tr style=\"text-align: right;\">\n",
       "      <th></th>\n",
       "      <th>Fiscal_Year</th>\n",
       "      <th>Payroll_Number</th>\n",
       "      <th>Agency_Name</th>\n",
       "      <th>Last_Name</th>\n",
       "      <th>First_Name</th>\n",
       "      <th>Mid_Init</th>\n",
       "      <th>Agency_Start_Date</th>\n",
       "      <th>Work_Location_Borough</th>\n",
       "      <th>Title_Description</th>\n",
       "      <th>Leave_Status_as_of_June_30</th>\n",
       "      <th>Base_Salary</th>\n",
       "      <th>Pay_Basis</th>\n",
       "      <th>Regular_Hours</th>\n",
       "      <th>Regular_Gross_Paid</th>\n",
       "      <th>OT_Hours</th>\n",
       "      <th>Total_OT_Paid</th>\n",
       "      <th>Total_Other_Pay</th>\n",
       "    </tr>\n",
       "  </thead>\n",
       "  <tbody>\n",
       "    <tr>\n",
       "      <th>0</th>\n",
       "      <td>2014</td>\n",
       "      <td>2</td>\n",
       "      <td>OFFICE OF THE MAYOR</td>\n",
       "      <td>CAPORALE</td>\n",
       "      <td>CAITLIN</td>\n",
       "      <td>None</td>\n",
       "      <td>2008-07-07</td>\n",
       "      <td>None</td>\n",
       "      <td>RESEARCH PROJECTS COORD</td>\n",
       "      <td>ACTIVE</td>\n",
       "      <td>74400.0</td>\n",
       "      <td>per Annum</td>\n",
       "      <td>1825.0</td>\n",
       "      <td>63161.81</td>\n",
       "      <td>0.0</td>\n",
       "      <td>0.0</td>\n",
       "      <td>0.0</td>\n",
       "    </tr>\n",
       "    <tr>\n",
       "      <th>1</th>\n",
       "      <td>2014</td>\n",
       "      <td>2</td>\n",
       "      <td>OFFICE OF THE MAYOR</td>\n",
       "      <td>CUMMINGS</td>\n",
       "      <td>KEVIN</td>\n",
       "      <td>S</td>\n",
       "      <td>2010-03-17</td>\n",
       "      <td>None</td>\n",
       "      <td>SPECIAL ASSISTANT</td>\n",
       "      <td>ACTIVE</td>\n",
       "      <td>85000.0</td>\n",
       "      <td>per Annum</td>\n",
       "      <td>1825.0</td>\n",
       "      <td>83769.76</td>\n",
       "      <td>0.0</td>\n",
       "      <td>0.0</td>\n",
       "      <td>0.0</td>\n",
       "    </tr>\n",
       "    <tr>\n",
       "      <th>2</th>\n",
       "      <td>2014</td>\n",
       "      <td>2</td>\n",
       "      <td>OFFICE OF THE MAYOR</td>\n",
       "      <td>MOORE</td>\n",
       "      <td>KARA</td>\n",
       "      <td>D</td>\n",
       "      <td>2010-07-26</td>\n",
       "      <td>None</td>\n",
       "      <td>SPECIAL ASSISTANT</td>\n",
       "      <td>CEASED</td>\n",
       "      <td>126500.0</td>\n",
       "      <td>per Annum</td>\n",
       "      <td>919.0</td>\n",
       "      <td>75941.94</td>\n",
       "      <td>0.0</td>\n",
       "      <td>0.0</td>\n",
       "      <td>500.0</td>\n",
       "    </tr>\n",
       "    <tr>\n",
       "      <th>3</th>\n",
       "      <td>2014</td>\n",
       "      <td>2</td>\n",
       "      <td>OFFICE OF THE MAYOR</td>\n",
       "      <td>SPAVINS</td>\n",
       "      <td>JOHN</td>\n",
       "      <td>C</td>\n",
       "      <td>2011-06-06</td>\n",
       "      <td>None</td>\n",
       "      <td>RESEARCH PROJECTS COORD</td>\n",
       "      <td>CEASED</td>\n",
       "      <td>110000.0</td>\n",
       "      <td>per Annum</td>\n",
       "      <td>919.0</td>\n",
       "      <td>111736.24</td>\n",
       "      <td>0.0</td>\n",
       "      <td>0.0</td>\n",
       "      <td>0.0</td>\n",
       "    </tr>\n",
       "    <tr>\n",
       "      <th>4</th>\n",
       "      <td>2014</td>\n",
       "      <td>2</td>\n",
       "      <td>OFFICE OF THE MAYOR</td>\n",
       "      <td>DUNCAN</td>\n",
       "      <td>CHARLA</td>\n",
       "      <td>A</td>\n",
       "      <td>2013-01-09</td>\n",
       "      <td>None</td>\n",
       "      <td>MAYORAL OFFICE ASSISTANT</td>\n",
       "      <td>CEASED</td>\n",
       "      <td>20.0</td>\n",
       "      <td>per Hour</td>\n",
       "      <td>0.0</td>\n",
       "      <td>1626.33</td>\n",
       "      <td>0.0</td>\n",
       "      <td>65.0</td>\n",
       "      <td>0.0</td>\n",
       "    </tr>\n",
       "  </tbody>\n",
       "</table>\n",
       "</div>"
      ],
      "text/plain": [
       "   Fiscal_Year  Payroll_Number  ... Total_OT_Paid Total_Other_Pay\n",
       "0         2014               2  ...           0.0             0.0\n",
       "1         2014               2  ...           0.0             0.0\n",
       "2         2014               2  ...           0.0           500.0\n",
       "3         2014               2  ...           0.0             0.0\n",
       "4         2014               2  ...          65.0             0.0\n",
       "\n",
       "[5 rows x 17 columns]"
      ]
     },
     "execution_count": 4,
     "metadata": {},
     "output_type": "execute_result"
    }
   ],
   "source": [
    "%%bigquery --project=ba-775-b2-team-3\n",
    "SELECT * FROM `ba-775-b2-team-3.NYC_Payroll.NYC_Payroll` LIMIT 5"
   ]
  },
  {
   "cell_type": "markdown",
   "metadata": {
    "id": "mFiCkyvw5Xm8"
   },
   "source": [
    "### Column Properties\n",
    "\n",
    "\n",
    "\n",
    "\n"
   ]
  },
  {
   "cell_type": "markdown",
   "metadata": {
    "id": "9V9lo-LZ4kh5"
   },
   "source": [
    "![Column Properties.PNG](data:image/png;base64,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)"
   ]
  },
  {
   "cell_type": "markdown",
   "metadata": {
    "id": "ku-Wh0D59ccU"
   },
   "source": [
    "### Data anomolities: "
   ]
  },
  {
   "cell_type": "markdown",
   "metadata": {
    "id": "f63IPMO-8Gp2"
   },
   "source": [
    "*   Title_Description has a lot of strange characters (see below code)\n",
    "*   Agency_start_date = null\n",
    "*   Work_location_borough = null\n",
    "*   regular_hours < 0\n",
    "*   Regular_Gross_Paid < 0\n",
    "*   OT_Hours < 0\n",
    "*   Total_OT_Paid < 0\n",
    "*   Total_Other_Pay < 0\n",
    "\n"
   ]
  },
  {
   "cell_type": "code",
   "execution_count": null,
   "metadata": {
    "colab": {
     "base_uri": "https://localhost:8080/",
     "height": 206
    },
    "id": "Du1_8irko4Vf",
    "outputId": "8fda07ad-760d-42cb-ecd6-38cdbc3149e9"
   },
   "outputs": [
    {
     "data": {
      "text/html": [
       "<div>\n",
       "<style scoped>\n",
       "    .dataframe tbody tr th:only-of-type {\n",
       "        vertical-align: middle;\n",
       "    }\n",
       "\n",
       "    .dataframe tbody tr th {\n",
       "        vertical-align: top;\n",
       "    }\n",
       "\n",
       "    .dataframe thead th {\n",
       "        text-align: right;\n",
       "    }\n",
       "</style>\n",
       "<table border=\"1\" class=\"dataframe\">\n",
       "  <thead>\n",
       "    <tr style=\"text-align: right;\">\n",
       "      <th></th>\n",
       "      <th>Title_Description</th>\n",
       "    </tr>\n",
       "  </thead>\n",
       "  <tbody>\n",
       "    <tr>\n",
       "      <th>0</th>\n",
       "      <td>*DIRECTOR OF HEALTH CARE PROGRAM PLANNING/ANAL...</td>\n",
       "    </tr>\n",
       "    <tr>\n",
       "      <th>1</th>\n",
       "      <td>12 MONTH SPECIAL EDUCATION ASST. PRINCIPAL</td>\n",
       "    </tr>\n",
       "    <tr>\n",
       "      <th>2</th>\n",
       "      <td>?*COMMUNITY LIAISON WORKER</td>\n",
       "    </tr>\n",
       "    <tr>\n",
       "      <th>3</th>\n",
       "      <td>?*DENTIST</td>\n",
       "    </tr>\n",
       "    <tr>\n",
       "      <th>4</th>\n",
       "      <td>?*ELEVATOR OPERATOR</td>\n",
       "    </tr>\n",
       "  </tbody>\n",
       "</table>\n",
       "</div>"
      ],
      "text/plain": [
       "                                   Title_Description\n",
       "0  *DIRECTOR OF HEALTH CARE PROGRAM PLANNING/ANAL...\n",
       "1         12 MONTH SPECIAL EDUCATION ASST. PRINCIPAL\n",
       "2                         ?*COMMUNITY LIAISON WORKER\n",
       "3                                          ?*DENTIST\n",
       "4                                ?*ELEVATOR OPERATOR"
      ]
     },
     "execution_count": 6,
     "metadata": {},
     "output_type": "execute_result"
    }
   ],
   "source": [
    "%%bigquery --project=ba-775-b2-team-3\n",
    "SELECT DISTINCT Title_Description FROM ba-775-b2-team-3.NYC_Payroll.NYC_Payroll\n",
    "WHERE REGEXP_CONTAINS(Title_Description, '[^0-9A-Za-z --\\']')\n",
    "ORDER BY Title_Description\n",
    "\n",
    "LIMIT 5"
   ]
  },
  {
   "cell_type": "markdown",
   "metadata": {
    "id": "neMC267P9mLg"
   },
   "source": [
    "## 2. Data Cleaning and Data modelling"
   ]
  },
  {
   "cell_type": "markdown",
   "metadata": {
    "id": "gJik4aE4SKSx"
   },
   "source": [
    "* In the raw data we have a common date table called \"Agency_Start_Date\" that has the data type of date-time and YYYY-MM-DD. We will create a caculated column called \"Tenure\" to specify the number of years that a person has stayed in the company, with the Tenure = 2021 - YYYY\n",
    "\n",
    "* We will also create another new caculated column called \"Total_Salary\", with Total_Salary = Regular_Gross_Paid + Total_OT_paid + Total_Other_Pay\n",
    "\n",
    "(We would have liked to use the column (Pay_Bases and Regular_Hours to calculate with the presumption that Base_Salary * Regular_Hours = Regular_Gross_Paid but some of the data didn't match)\n",
    "\n",
    "* Work_location_borough has a hierarchy and will be set like this:\n",
    "> New York State\n",
    "> - ULSTER\n",
    "> - NASSAU\n",
    "> - WESTCHESTER\n",
    "> - NYC\n",
    ">   - BROOKLYN\n",
    "    - MANHATTAN\n",
    "    - QUEENS\n",
    "    - BRONX\n",
    "    - RICHMOND\n",
    "> - SULLIVAN\n",
    "> - SCHOHARIE\n",
    "> - DUTCHESS\n",
    "> - ALBANY\n",
    "\n",
    "Also Work_location_borough has both uppercase and downcase so we will use UPPER() when GROUP BY()"
   ]
  },
  {
   "cell_type": "markdown",
   "metadata": {
    "id": "PwBec_sUIfL7"
   },
   "source": [
    "### Cleaning code"
   ]
  },
  {
   "cell_type": "code",
   "execution_count": null,
   "metadata": {
    "id": "EZTpIG3laieN"
   },
   "outputs": [],
   "source": [
    "# This is the query that we put in BigQuery to create a New clean table \n",
    "# Don't run it or it will cost a lot of minutes of your life\n",
    "\n",
    "# %%bigquery --project=ba-775-b2-team-3\n",
    "CREATE OR REPLACE TABLE ba-775-b2-team-3.NYC_Payroll.NYC_Payroll_Cleaned\n",
    "AS\n",
    "SELECT \n",
    "  Fiscal_Year,\n",
    "  Agency_Name,\n",
    "  Agency_Start_Date,\n",
    "  EXTRACT(year FROM Agency_Start_Date) AS Year,\n",
    "  2021 - EXTRACT(year FROM Agency_Start_Date) AS Tenure,\n",
    "  EXTRACT (month FROM Agency_Start_Date) AS Month_Numeric,\n",
    "  FORMAT_DATETIME(\"%B\", Agency_Start_Date) Month_Alphabet,\n",
    "  Work_Location_Borough,\n",
    "  Leave_Status_as_of_June_30,\n",
    "  Base_Salary, \n",
    "  Pay_Basis,\n",
    "  Regular_Hours, \n",
    "  Regular_Gross_Paid,\n",
    "  OT_Hours,\n",
    "  Total_OT_Paid,\n",
    "  Total_Other_Pay,\n",
    "  Regular_Gross_Paid + Total_OT_paid + Total_Other_Pay AS Total_Salary,\n",
    "  regexp_replace(Title_Description, '[?*]', '') AS Title_Description\n",
    "\n",
    "\n",
    "FROM ba-775-b2-team-3.NYC_Payroll.NYC_Payroll\n",
    "-- WHERE REGEXP_CONTAINS(Title_Description, '[^0-9A-Za-z --\\']')\n",
    "\n",
    "\n",
    "WHERE Title_Description IS NOT NULL \n",
    "AND Fiscal_Year IS NOT NULL \n",
    "AND Agency_Start_Date IS NOT NULL\n",
    "AND Work_Location_Borough IS NOT NULL\n",
    "AND Leave_Status_as_of_June_30 IS NOT NULL\n",
    "AND Base_Salary IS NOT NULL \n",
    "AND Base_Salary > 0\n",
    "AND Pay_Basis IS NOT NULL\n",
    "AND Regular_Hours IS NOT NULL \n",
    "AND Regular_Hours > 0\n",
    "AND Regular_Gross_Paid IS NOT NULL\n",
    "AND Regular_Gross_Paid > 0\n",
    "AND OT_Hours IS NOT NULL\n",
    "And OT_Hours > 0\n",
    "AND Total_OT_Paid IS NOT NULL\n",
    "AND Total_OT_Paid > 0\n",
    "AND Total_Other_Pay IS NOT NULL\n",
    "AND Total_Other_Pay > 0"
   ]
  },
  {
   "cell_type": "markdown",
   "metadata": {
    "id": "R7KimZmaHEhw"
   },
   "source": [
    "### The clean table"
   ]
  },
  {
   "cell_type": "markdown",
   "metadata": {
    "id": "OCcYidMRgoX6"
   },
   "source": [
    "Finally, we have a clean table called \"NYC_Payroll_Cleaned\" and we will use this clean table for further data analytics"
   ]
  },
  {
   "cell_type": "code",
   "execution_count": null,
   "metadata": {
    "colab": {
     "base_uri": "https://localhost:8080/",
     "height": 382
    },
    "id": "HWx2NNFhgw9Y",
    "outputId": "3b237a0d-c662-4b11-c2e1-11d3b00634a9"
   },
   "outputs": [
    {
     "data": {
      "text/html": [
       "<div>\n",
       "<style scoped>\n",
       "    .dataframe tbody tr th:only-of-type {\n",
       "        vertical-align: middle;\n",
       "    }\n",
       "\n",
       "    .dataframe tbody tr th {\n",
       "        vertical-align: top;\n",
       "    }\n",
       "\n",
       "    .dataframe thead th {\n",
       "        text-align: right;\n",
       "    }\n",
       "</style>\n",
       "<table border=\"1\" class=\"dataframe\">\n",
       "  <thead>\n",
       "    <tr style=\"text-align: right;\">\n",
       "      <th></th>\n",
       "      <th>Fiscal_Year</th>\n",
       "      <th>Agency_Name</th>\n",
       "      <th>Agency_Start_Date</th>\n",
       "      <th>Year</th>\n",
       "      <th>Tenure</th>\n",
       "      <th>Month_Numeric</th>\n",
       "      <th>Month_Alphabet</th>\n",
       "      <th>Work_Location_Borough</th>\n",
       "      <th>Leave_Status_as_of_June_30</th>\n",
       "      <th>Base_Salary</th>\n",
       "      <th>Pay_Basis</th>\n",
       "      <th>Regular_Hours</th>\n",
       "      <th>Regular_Gross_Paid</th>\n",
       "      <th>OT_Hours</th>\n",
       "      <th>Total_OT_Paid</th>\n",
       "      <th>Total_Other_Pay</th>\n",
       "      <th>Total_Salary</th>\n",
       "      <th>Title_Description</th>\n",
       "    </tr>\n",
       "  </thead>\n",
       "  <tbody>\n",
       "    <tr>\n",
       "      <th>0</th>\n",
       "      <td>2017</td>\n",
       "      <td>POLICE DEPARTMENT</td>\n",
       "      <td>1980-07-07</td>\n",
       "      <td>1980</td>\n",
       "      <td>41</td>\n",
       "      <td>7</td>\n",
       "      <td>July</td>\n",
       "      <td>RICHMOND</td>\n",
       "      <td>ACTIVE</td>\n",
       "      <td>41391.00</td>\n",
       "      <td>per Annum</td>\n",
       "      <td>1795.00</td>\n",
       "      <td>42538.65</td>\n",
       "      <td>2.0</td>\n",
       "      <td>50.32</td>\n",
       "      <td>9006.22</td>\n",
       "      <td>51595.19</td>\n",
       "      <td>POLICE ADMINISTRATIVE AIDE</td>\n",
       "    </tr>\n",
       "    <tr>\n",
       "      <th>1</th>\n",
       "      <td>2015</td>\n",
       "      <td>DEPT OF ENVIRONMENT PROTECTION</td>\n",
       "      <td>1981-12-01</td>\n",
       "      <td>1981</td>\n",
       "      <td>40</td>\n",
       "      <td>12</td>\n",
       "      <td>December</td>\n",
       "      <td>QUEENS</td>\n",
       "      <td>ACTIVE</td>\n",
       "      <td>85019.00</td>\n",
       "      <td>per Annum</td>\n",
       "      <td>2084.57</td>\n",
       "      <td>88853.74</td>\n",
       "      <td>28.5</td>\n",
       "      <td>1978.33</td>\n",
       "      <td>8525.25</td>\n",
       "      <td>99357.32</td>\n",
       "      <td>SUPERVISOR</td>\n",
       "    </tr>\n",
       "    <tr>\n",
       "      <th>2</th>\n",
       "      <td>2015</td>\n",
       "      <td>NYC HOUSING AUTHORITY</td>\n",
       "      <td>1983-04-27</td>\n",
       "      <td>1983</td>\n",
       "      <td>38</td>\n",
       "      <td>4</td>\n",
       "      <td>April</td>\n",
       "      <td>MANHATTAN</td>\n",
       "      <td>CEASED</td>\n",
       "      <td>324.72</td>\n",
       "      <td>per Day</td>\n",
       "      <td>1068.57</td>\n",
       "      <td>71157.33</td>\n",
       "      <td>120.0</td>\n",
       "      <td>9132.75</td>\n",
       "      <td>804.23</td>\n",
       "      <td>81094.31</td>\n",
       "      <td>PLASTERER</td>\n",
       "    </tr>\n",
       "    <tr>\n",
       "      <th>3</th>\n",
       "      <td>2017</td>\n",
       "      <td>POLICE DEPARTMENT</td>\n",
       "      <td>1983-04-27</td>\n",
       "      <td>1983</td>\n",
       "      <td>38</td>\n",
       "      <td>4</td>\n",
       "      <td>April</td>\n",
       "      <td>QUEENS</td>\n",
       "      <td>ACTIVE</td>\n",
       "      <td>50696.00</td>\n",
       "      <td>per Annum</td>\n",
       "      <td>1795.00</td>\n",
       "      <td>49593.33</td>\n",
       "      <td>232.0</td>\n",
       "      <td>8121.05</td>\n",
       "      <td>4991.30</td>\n",
       "      <td>62705.68</td>\n",
       "      <td>SENIOR POLICE ADMINISTRATIVE AIDE</td>\n",
       "    </tr>\n",
       "    <tr>\n",
       "      <th>4</th>\n",
       "      <td>2019</td>\n",
       "      <td>POLICE DEPARTMENT</td>\n",
       "      <td>1983-04-27</td>\n",
       "      <td>1983</td>\n",
       "      <td>38</td>\n",
       "      <td>4</td>\n",
       "      <td>April</td>\n",
       "      <td>QUEENS</td>\n",
       "      <td>ACTIVE</td>\n",
       "      <td>52908.00</td>\n",
       "      <td>per Annum</td>\n",
       "      <td>1785.00</td>\n",
       "      <td>53223.48</td>\n",
       "      <td>113.0</td>\n",
       "      <td>4281.41</td>\n",
       "      <td>5332.40</td>\n",
       "      <td>62837.29</td>\n",
       "      <td>SENIOR POLICE ADMINISTRATIVE AIDE</td>\n",
       "    </tr>\n",
       "  </tbody>\n",
       "</table>\n",
       "</div>"
      ],
      "text/plain": [
       "   Fiscal_Year  ...                  Title_Description\n",
       "0         2017  ...         POLICE ADMINISTRATIVE AIDE\n",
       "1         2015  ...                         SUPERVISOR\n",
       "2         2015  ...                          PLASTERER\n",
       "3         2017  ...  SENIOR POLICE ADMINISTRATIVE AIDE\n",
       "4         2019  ...  SENIOR POLICE ADMINISTRATIVE AIDE\n",
       "\n",
       "[5 rows x 18 columns]"
      ]
     },
     "execution_count": 31,
     "metadata": {},
     "output_type": "execute_result"
    }
   ],
   "source": [
    "%%bigquery --project=ba-775-b2-team-3\n",
    "SELECT * FROM `ba-775-b2-team-3.NYC_Payroll.NYC_Payroll_Cleaned` LIMIT 5"
   ]
  },
  {
   "cell_type": "markdown",
   "metadata": {
    "id": "fwL9Ixlh9uzj"
   },
   "source": [
    "## 3. Data Analytics\n",
    "\n",
    "Asking the real question: who would benefit from seeing this data?"
   ]
  },
  {
   "cell_type": "markdown",
   "metadata": {
    "id": "5FRNQxtk98W8"
   },
   "source": [
    "### IAMA Job seeker"
   ]
  },
  {
   "cell_type": "markdown",
   "metadata": {
    "id": "Rcsa2H1jIpNe"
   },
   "source": [
    "The \"Job seeker\" will be one of the types of people to benefit from analyzing this dataset. The \"Job seeker\" will be interested in topics such as: how are jobs allocated between different locations, what is the average salary between different locations, job titles and tenures. \n",
    "\n",
    "We will first take a look at the dataset, then analyze the average salary of workers through three key facts: work location, job description and tenure.\n",
    "\n"
   ]
  },
  {
   "cell_type": "markdown",
   "metadata": {
    "id": "xDbGg0bpKDZZ"
   },
   "source": [
    "#### Dive in the dataset"
   ]
  },
  {
   "cell_type": "markdown",
   "metadata": {
    "id": "nu8ChWDaDYU9"
   },
   "source": [
    "Firstly, we will take a look at the trends of maximum, minimum and average total salary over the period from 2014 to 2020.\n",
    "\n",
    "- Conclusion：From the line graph, the trends of minimum salary and average salary maintain at the same level throughout the years. It can be explained as the economic environment and other factors didn't have an impact on the minimum and average salary of municipal employees in New York States. However, the maximum salary that New York States can pay for workers fluctuates with a sudden decrease around 2018 to 2019. From the bar chart, we found that the top 5 boroughs with the most active employees that are: Manhattan, Queens, Brooklyn, Bronx and Richmond.\n",
    "\n"
   ]
  },
  {
   "cell_type": "code",
   "execution_count": null,
   "metadata": {
    "id": "wOnQBo3GY6lL"
   },
   "outputs": [],
   "source": [
    "from google.cloud import bigquery\n",
    "\n",
    "client = bigquery.Client(project = 'ba-775-b2-team-3')"
   ]
  },
  {
   "cell_type": "code",
   "execution_count": null,
   "metadata": {
    "colab": {
     "base_uri": "https://localhost:8080/",
     "height": 269
    },
    "id": "Vl33uQpDZjAd",
    "outputId": "7c16733f-22c1-46d5-aff2-6de313eb2be4"
   },
   "outputs": [
    {
     "data": {
      "text/html": [
       "<div>\n",
       "<style scoped>\n",
       "    .dataframe tbody tr th:only-of-type {\n",
       "        vertical-align: middle;\n",
       "    }\n",
       "\n",
       "    .dataframe tbody tr th {\n",
       "        vertical-align: top;\n",
       "    }\n",
       "\n",
       "    .dataframe thead th {\n",
       "        text-align: right;\n",
       "    }\n",
       "</style>\n",
       "<table border=\"1\" class=\"dataframe\">\n",
       "  <thead>\n",
       "    <tr style=\"text-align: right;\">\n",
       "      <th></th>\n",
       "      <th>Fiscal_Year</th>\n",
       "      <th>Max_Total_Salary</th>\n",
       "      <th>Min_Total_Salary</th>\n",
       "      <th>Avg_Total_Salary</th>\n",
       "    </tr>\n",
       "  </thead>\n",
       "  <tbody>\n",
       "    <tr>\n",
       "      <th>0</th>\n",
       "      <td>2014</td>\n",
       "      <td>118709</td>\n",
       "      <td>3954</td>\n",
       "      <td>51966</td>\n",
       "    </tr>\n",
       "    <tr>\n",
       "      <th>1</th>\n",
       "      <td>2015</td>\n",
       "      <td>274352</td>\n",
       "      <td>263</td>\n",
       "      <td>80283</td>\n",
       "    </tr>\n",
       "    <tr>\n",
       "      <th>2</th>\n",
       "      <td>2016</td>\n",
       "      <td>400663</td>\n",
       "      <td>315</td>\n",
       "      <td>85428</td>\n",
       "    </tr>\n",
       "    <tr>\n",
       "      <th>3</th>\n",
       "      <td>2017</td>\n",
       "      <td>373904</td>\n",
       "      <td>317</td>\n",
       "      <td>86814</td>\n",
       "    </tr>\n",
       "    <tr>\n",
       "      <th>4</th>\n",
       "      <td>2018</td>\n",
       "      <td>539098</td>\n",
       "      <td>187</td>\n",
       "      <td>84056</td>\n",
       "    </tr>\n",
       "    <tr>\n",
       "      <th>5</th>\n",
       "      <td>2019</td>\n",
       "      <td>310216</td>\n",
       "      <td>143</td>\n",
       "      <td>83960</td>\n",
       "    </tr>\n",
       "    <tr>\n",
       "      <th>6</th>\n",
       "      <td>2020</td>\n",
       "      <td>348888</td>\n",
       "      <td>232</td>\n",
       "      <td>86183</td>\n",
       "    </tr>\n",
       "  </tbody>\n",
       "</table>\n",
       "</div>"
      ],
      "text/plain": [
       "   Fiscal_Year  Max_Total_Salary  Min_Total_Salary  Avg_Total_Salary\n",
       "0         2014            118709              3954             51966\n",
       "1         2015            274352               263             80283\n",
       "2         2016            400663               315             85428\n",
       "3         2017            373904               317             86814\n",
       "4         2018            539098               187             84056\n",
       "5         2019            310216               143             83960\n",
       "6         2020            348888               232             86183"
      ]
     },
     "execution_count": 12,
     "metadata": {},
     "output_type": "execute_result"
    }
   ],
   "source": [
    "sql = \"\"\"\n",
    "SELECT \n",
    "  Fiscal_Year, \n",
    "  CAST(MAX(Total_Salary) AS INT) AS Max_Total_Salary, \n",
    "  CAST(MIN(Total_Salary) AS INT) AS Min_Total_Salary , \n",
    "  CAST(AVG(Total_Salary) AS INT) AS Avg_Total_Salary \n",
    "FROM `ba-775-b2-team-3.NYC_Payroll.NYC_Payroll_Cleaned` \n",
    "GROUP BY Fiscal_Year \n",
    "ORDER BY Fiscal_Year ASC\n",
    "\n",
    "\"\"\"\n",
    "df_1 = client.query(sql).to_dataframe()\n",
    "df_1"
   ]
  },
  {
   "cell_type": "code",
   "execution_count": null,
   "metadata": {
    "colab": {
     "base_uri": "https://localhost:8080/",
     "height": 294
    },
    "id": "xdKwZk2kajVG",
    "outputId": "19e9f062-b403-4f49-d71c-0efc9601aa55"
   },
   "outputs": [
    {
     "data": {
      "image/png": "[encoded data removed]",
      "text/plain": [
       "<Figure size 432x288 with 1 Axes>"
      ]
     },
     "metadata": {
      "needs_background": "light"
     },
     "output_type": "display_data"
    }
   ],
   "source": [
    "import matplotlib.pyplot as plt\n",
    "plt.plot( df_1.Fiscal_Year,df_1.Max_Total_Salary, 'b', label='Max_Total_Salary')\n",
    "plt.plot( df_1.Fiscal_Year,df_1.Min_Total_Salary, 'g', label='Min_Total_Salary')\n",
    "plt.plot( df_1.Fiscal_Year,df_1.Avg_Total_Salary, 'orange', label='Avg_Total_Salary')\n",
    "\n",
    "plt.xlabel(\"Fiscal Year\")\n",
    "plt.ylabel(\"Total Salary\")\n",
    "plt.title('The trends of maximum, minimum and average total salary over the period from 2014 to 2020 in NY State')\n",
    "plt.legend()\n",
    "plt.show()"
   ]
  },
  {
   "cell_type": "markdown",
   "metadata": {
    "id": "zey9HFIZs1oA"
   },
   "source": [
    "* Analyze the proportion of current active employees at different locations using plt.pie()\n",
    "\n"
   ]
  },
  {
   "cell_type": "code",
   "execution_count": null,
   "metadata": {
    "colab": {
     "base_uri": "https://localhost:8080/",
     "height": 200
    },
    "id": "vTcUeqSDL2y7",
    "outputId": "259d8a9a-57e1-4235-ba5c-c8115aab6eba"
   },
   "outputs": [
    {
     "data": {
      "text/html": [
       "<div>\n",
       "<style scoped>\n",
       "    .dataframe tbody tr th:only-of-type {\n",
       "        vertical-align: middle;\n",
       "    }\n",
       "\n",
       "    .dataframe tbody tr th {\n",
       "        vertical-align: top;\n",
       "    }\n",
       "\n",
       "    .dataframe thead th {\n",
       "        text-align: right;\n",
       "    }\n",
       "</style>\n",
       "<table border=\"1\" class=\"dataframe\">\n",
       "  <thead>\n",
       "    <tr style=\"text-align: right;\">\n",
       "      <th></th>\n",
       "      <th>NUM_EMPLOYEEE</th>\n",
       "      <th>Work_Location</th>\n",
       "    </tr>\n",
       "  </thead>\n",
       "  <tbody>\n",
       "    <tr>\n",
       "      <th>0</th>\n",
       "      <td>247209</td>\n",
       "      <td>MANHATTAN</td>\n",
       "    </tr>\n",
       "    <tr>\n",
       "      <th>1</th>\n",
       "      <td>196668</td>\n",
       "      <td>QUEENS</td>\n",
       "    </tr>\n",
       "    <tr>\n",
       "      <th>2</th>\n",
       "      <td>180468</td>\n",
       "      <td>BROOKLYN</td>\n",
       "    </tr>\n",
       "    <tr>\n",
       "      <th>3</th>\n",
       "      <td>99256</td>\n",
       "      <td>BRONX</td>\n",
       "    </tr>\n",
       "    <tr>\n",
       "      <th>4</th>\n",
       "      <td>30953</td>\n",
       "      <td>RICHMOND</td>\n",
       "    </tr>\n",
       "  </tbody>\n",
       "</table>\n",
       "</div>"
      ],
      "text/plain": [
       "   NUM_EMPLOYEEE Work_Location\n",
       "0         247209     MANHATTAN\n",
       "1         196668        QUEENS\n",
       "2         180468      BROOKLYN\n",
       "3          99256         BRONX\n",
       "4          30953      RICHMOND"
      ]
     },
     "execution_count": 7,
     "metadata": {},
     "output_type": "execute_result"
    }
   ],
   "source": [
    "sql = \"\"\"\n",
    "SELECT COUNT(*) AS NUM_EMPLOYEEE, UPPER(Work_Location_Borough) as Work_Location\n",
    "FROM `ba-775-b2-team-3.NYC_Payroll.NYC_Payroll_Cleaned`\n",
    "WHERE Leave_Status_as_of_June_30 = \"ACTIVE\"\n",
    "GROUP BY Work_Location\n",
    "ORDER BY NUM_EMPLOYEEE DESC\n",
    "LIMIT 5\n",
    "\"\"\"\n",
    "df_2_a = client.query(sql).to_dataframe()\n",
    "df_2_a\n"
   ]
  },
  {
   "cell_type": "code",
   "execution_count": null,
   "metadata": {
    "colab": {
     "base_uri": "https://localhost:8080/",
     "height": 247
    },
    "id": "kAaGXg9GNCqi",
    "outputId": "d4a3424e-63c0-4e40-f108-dacc047fc6e7"
   },
   "outputs": [
    {
     "data": {
      "image/png": "[encoded data removed]",
      "text/plain": [
       "<Figure size 432x288 with 1 Axes>"
      ]
     },
     "metadata": {},
     "output_type": "display_data"
    }
   ],
   "source": [
    "import matplotlib.pyplot as plt\n",
    "\n",
    "# Pie chart, where the slices will be ordered and plotted counter-clockwise:\n",
    "labels = df_2_a['Work_Location'].to_list()\n",
    "sizes = df_2_a['NUM_EMPLOYEEE'].to_list()\n",
    "explode = (0.1, 0, 0, 0,0)  \n",
    "\n",
    "fig1, ax1 = plt.subplots()\n",
    "ax1.pie(sizes, explode = explode, labels=labels, autopct='%1.1f%%',\n",
    "        shadow=True, startangle=90)\n",
    "ax1.axis('equal')  # Equal aspect ratio ensures that pie is drawn as a circle.\n",
    "\n",
    "plt.show()"
   ]
  },
  {
   "cell_type": "markdown",
   "metadata": {
    "id": "Y_3lbpGRMHKU"
   },
   "source": [
    "#### Analyzing the correlation of average salary between three key factors"
   ]
  },
  {
   "cell_type": "markdown",
   "metadata": {
    "id": "fcI8GMlef7nV"
   },
   "source": [
    "We will analyze the relationships between average salary over three key factors:\n",
    "\n",
    "- a. Work Location\n",
    "- b. Title Description\n",
    "- c. Tenure"
   ]
  },
  {
   "cell_type": "markdown",
   "metadata": {
    "id": "pYQx5B6ZgW-V"
   },
   "source": [
    "a. Work Location\n",
    "- Top 1 list of locations with the highest average total salary from 2015 to 2020\n",
    "- Count the number of appearances of each work location from the Top 5 List of best locations with highest salaries\n",
    "\n",
    "\n",
    "`Conclusion:`\n",
    "- From the table we can see the top locations with the highest salaries during the period of 2015 - 2020\n",
    "- These are the locations with their number of appearances in the top 5 list of locations with highest salaries: RICHMOND(7), DUTCHESS(6), and QUEENS(6). Especially, RICHMOND(7) is on the top 5 list for a 7th consecutive year.\n"
   ]
  },
  {
   "cell_type": "code",
   "execution_count": null,
   "metadata": {
    "colab": {
     "base_uri": "https://localhost:8080/",
     "height": 237
    },
    "id": "glSud3f9gSxU",
    "outputId": "44a70042-e10c-4271-bb61-ef917d28c7d5"
   },
   "outputs": [
    {
     "data": {
      "text/html": [
       "<div>\n",
       "<style scoped>\n",
       "    .dataframe tbody tr th:only-of-type {\n",
       "        vertical-align: middle;\n",
       "    }\n",
       "\n",
       "    .dataframe tbody tr th {\n",
       "        vertical-align: top;\n",
       "    }\n",
       "\n",
       "    .dataframe thead th {\n",
       "        text-align: right;\n",
       "    }\n",
       "</style>\n",
       "<table border=\"1\" class=\"dataframe\">\n",
       "  <thead>\n",
       "    <tr style=\"text-align: right;\">\n",
       "      <th></th>\n",
       "      <th>Fiscal_Year</th>\n",
       "      <th>Avg_Total_Salary</th>\n",
       "      <th>Work_Location</th>\n",
       "      <th>rn</th>\n",
       "    </tr>\n",
       "  </thead>\n",
       "  <tbody>\n",
       "    <tr>\n",
       "      <th>0</th>\n",
       "      <td>2020</td>\n",
       "      <td>116991</td>\n",
       "      <td>ALBANY</td>\n",
       "      <td>1</td>\n",
       "    </tr>\n",
       "    <tr>\n",
       "      <th>1</th>\n",
       "      <td>2019</td>\n",
       "      <td>101882</td>\n",
       "      <td>GREENE</td>\n",
       "      <td>1</td>\n",
       "    </tr>\n",
       "    <tr>\n",
       "      <th>2</th>\n",
       "      <td>2018</td>\n",
       "      <td>168882</td>\n",
       "      <td>ALBANY</td>\n",
       "      <td>1</td>\n",
       "    </tr>\n",
       "    <tr>\n",
       "      <th>3</th>\n",
       "      <td>2017</td>\n",
       "      <td>97443</td>\n",
       "      <td>DUTCHESS</td>\n",
       "      <td>1</td>\n",
       "    </tr>\n",
       "    <tr>\n",
       "      <th>4</th>\n",
       "      <td>2016</td>\n",
       "      <td>157600</td>\n",
       "      <td>ORANGE</td>\n",
       "      <td>1</td>\n",
       "    </tr>\n",
       "    <tr>\n",
       "      <th>5</th>\n",
       "      <td>2015</td>\n",
       "      <td>110234</td>\n",
       "      <td>ORANGE</td>\n",
       "      <td>1</td>\n",
       "    </tr>\n",
       "  </tbody>\n",
       "</table>\n",
       "</div>"
      ],
      "text/plain": [
       "   Fiscal_Year  Avg_Total_Salary Work_Location  rn\n",
       "0         2020            116991        ALBANY   1\n",
       "1         2019            101882        GREENE   1\n",
       "2         2018            168882        ALBANY   1\n",
       "3         2017             97443      DUTCHESS   1\n",
       "4         2016            157600        ORANGE   1\n",
       "5         2015            110234        ORANGE   1"
      ]
     },
     "execution_count": 3,
     "metadata": {},
     "output_type": "execute_result"
    }
   ],
   "source": [
    "#With rn = 1 (as in get the worklocation with largest avg_total_salary) it's better to just use GROUP BY and ORDER BY\n",
    "#But if you want to get top 5 list in each year, change it to 1 <= rn <= 5\n",
    "\n",
    "%%bigquery --project=ba-775-b2-team-3\n",
    "\n",
    "SELECT * FROM \n",
    "  (SELECT *, \n",
    "    ROW_NUMBER() OVER (PARTITION BY Fiscal_Year ORDER BY Avg_Total_Salary DESC) as rn\n",
    "  FROM(\n",
    "    SELECT \n",
    "      Fiscal_Year,\n",
    "      CAST(AVG(Total_Salary) AS INT64 ) AS Avg_Total_Salary,\n",
    "      UPPER(Work_Location_Borough) AS Work_Location,\n",
    "    FROM `ba-775-b2-team-3.NYC_Payroll.NYC_Payroll_Cleaned`\n",
    "    WHERE  UPPER(Work_Location_Borough) IS NOT NULL\n",
    "    AND Fiscal_Year >= 2015\n",
    "    GROUP BY \tWork_Location, Fiscal_Year\n",
    "    ORDER BY Fiscal_Year ASC, Avg_Total_Salary DESC\n",
    "    )\n",
    "  )\n",
    "WHERE rn = 1\n",
    "ORDER BY Fiscal_Year DESC\n"
   ]
  },
  {
   "cell_type": "code",
   "execution_count": null,
   "metadata": {
    "id": "fmcWi8G6gZzl"
   },
   "outputs": [],
   "source": [
    "\n",
    "\n",
    "%%bigquery --project=ba-775-b2-team-3\n",
    "\n",
    "WITH Work_Location_Table\n",
    "AS(SELECT * FROM \n",
    "\n",
    "  (SELECT \n",
    "    *, \n",
    "    ROW_NUMBER() OVER (PARTITION BY Fiscal_Year ORDER BY Avg_Total_Salary DESC) as rn\n",
    "  FROM(\n",
    "    SELECT \n",
    "      Fiscal_Year,\n",
    "      CAST(AVG(Total_Salary) AS INT64 ) AS Avg_Total_Salary,\n",
    "      Work_Location_Borough,\n",
    "    FROM `ba-775-b2-team-3.NYC_Payroll.NYC_Payroll_Cleaned`\n",
    "    WHERE \tWork_Location_Borough IS NOT NULL\n",
    "    GROUP BY \tWork_Location_Borough, Fiscal_Year\n",
    "    ORDER BY Fiscal_Year ASC, Avg_Total_Salary DESC))\n",
    "  \n",
    "  WHERE rn >=1 and rn <=5\n",
    "  ORDER BY Fiscal_Year DESC)\n",
    "\n",
    "SELECT UPPER(Work_Location_Borough) AS Work_Location, COUNT(UPPER(Work_Location_Borough)) AS Appearances_in_top_5_Salary\n",
    "FROM Work_Location_Table\n",
    "GROUP BY Work_Location\n",
    "ORDER BY Appearances_in_top_5_Salary DESC\n",
    "LIMIT 5"
   ]
  },
  {
   "cell_type": "markdown",
   "metadata": {
    "id": "K2rzVeTWhp9r"
   },
   "source": [
    "b. Title Description\n",
    "\n",
    "- Top 1 Title Descriptions with the highest earnings over the fiscal year from 2015 to 2020\n",
    "\n",
    "- Count the number of apperances of each Title Description from the Top 5 list of best job titles with the highest salaries\n",
    "\n",
    "\n",
    "`Conclusion:`\n",
    "- From the table we can see the top job titles with the highest earnings during the period of 2015 - 2020\n",
    "- These are the job titles with their number of appearances in the top 5 list of titles with highest earnings: CRANE OPERATOR AMPES\t(4), CITY MEDICAL EXAMINER(4), and SENIOR SYSTEMS ANALYSTS(3). \n",
    "\n"
   ]
  },
  {
   "cell_type": "code",
   "execution_count": null,
   "metadata": {
    "colab": {
     "base_uri": "https://localhost:8080/",
     "height": 237
    },
    "id": "fIia8Nupq1b6",
    "outputId": "e557f5ea-ebe4-42c1-b5e2-2bfb235ba87d"
   },
   "outputs": [
    {
     "data": {
      "text/html": [
       "<div>\n",
       "<style scoped>\n",
       "    .dataframe tbody tr th:only-of-type {\n",
       "        vertical-align: middle;\n",
       "    }\n",
       "\n",
       "    .dataframe tbody tr th {\n",
       "        vertical-align: top;\n",
       "    }\n",
       "\n",
       "    .dataframe thead th {\n",
       "        text-align: right;\n",
       "    }\n",
       "</style>\n",
       "<table border=\"1\" class=\"dataframe\">\n",
       "  <thead>\n",
       "    <tr style=\"text-align: right;\">\n",
       "      <th></th>\n",
       "      <th>Fiscal_Year</th>\n",
       "      <th>Avg_Total_Salary</th>\n",
       "      <th>Title_Description</th>\n",
       "      <th>rn</th>\n",
       "    </tr>\n",
       "  </thead>\n",
       "  <tbody>\n",
       "    <tr>\n",
       "      <th>0</th>\n",
       "      <td>2020</td>\n",
       "      <td>282477</td>\n",
       "      <td>SENIOR SYSTEMS ANALYSTS</td>\n",
       "      <td>1</td>\n",
       "    </tr>\n",
       "    <tr>\n",
       "      <th>1</th>\n",
       "      <td>2019</td>\n",
       "      <td>222760</td>\n",
       "      <td>CITY MEDICAL EXAMINER</td>\n",
       "      <td>1</td>\n",
       "    </tr>\n",
       "    <tr>\n",
       "      <th>2</th>\n",
       "      <td>2018</td>\n",
       "      <td>301472</td>\n",
       "      <td>SENIOR STATIONARY ENGINEER</td>\n",
       "      <td>1</td>\n",
       "    </tr>\n",
       "    <tr>\n",
       "      <th>3</th>\n",
       "      <td>2017</td>\n",
       "      <td>209358</td>\n",
       "      <td>CITY MEDICAL EXAMINER</td>\n",
       "      <td>1</td>\n",
       "    </tr>\n",
       "    <tr>\n",
       "      <th>4</th>\n",
       "      <td>2016</td>\n",
       "      <td>400663</td>\n",
       "      <td>SUPERVISOR SHIP CARPENTER</td>\n",
       "      <td>1</td>\n",
       "    </tr>\n",
       "    <tr>\n",
       "      <th>5</th>\n",
       "      <td>2015</td>\n",
       "      <td>194307</td>\n",
       "      <td>SUPERVISOR DOCKBUILDER</td>\n",
       "      <td>1</td>\n",
       "    </tr>\n",
       "  </tbody>\n",
       "</table>\n",
       "</div>"
      ],
      "text/plain": [
       "   Fiscal_Year  Avg_Total_Salary           Title_Description  rn\n",
       "0         2020            282477     SENIOR SYSTEMS ANALYSTS   1\n",
       "1         2019            222760       CITY MEDICAL EXAMINER   1\n",
       "2         2018            301472  SENIOR STATIONARY ENGINEER   1\n",
       "3         2017            209358       CITY MEDICAL EXAMINER   1\n",
       "4         2016            400663   SUPERVISOR SHIP CARPENTER   1\n",
       "5         2015            194307      SUPERVISOR DOCKBUILDER   1"
      ]
     },
     "execution_count": 38,
     "metadata": {},
     "output_type": "execute_result"
    }
   ],
   "source": [
    "%%bigquery --project=ba-775-b2-team-3\n",
    "\n",
    "SELECT * FROM \n",
    "\n",
    "  (SELECT \n",
    "    *, \n",
    "    ROW_NUMBER() OVER (PARTITION BY Fiscal_Year ORDER BY Avg_Total_Salary DESC) as rn\n",
    "  FROM(\n",
    "    SELECT \n",
    "      Fiscal_Year,\n",
    "      CAST(AVG(Total_Salary) AS INT64 ) AS Avg_Total_Salary,\n",
    "      Title_Description,\n",
    "    FROM `ba-775-b2-team-3.NYC_Payroll.NYC_Payroll_Cleaned`\n",
    "    WHERE Title_Description IS NOT NULL\n",
    "    AND Fiscal_Year >= 2015\n",
    "    GROUP BY Title_Description, Fiscal_Year\n",
    "    ORDER BY Fiscal_Year ASC, Avg_Total_Salary DESC\n",
    "    )\n",
    "  )\n",
    "\n",
    "WHERE rn = 1\n",
    "ORDER BY Fiscal_Year DESC\n",
    "\n"
   ]
  },
  {
   "cell_type": "code",
   "execution_count": null,
   "metadata": {
    "colab": {
     "base_uri": "https://localhost:8080/",
     "height": 206
    },
    "id": "llviPr1Lq5bj",
    "outputId": "5e8f463e-12da-488d-9c13-99039a6e3a1e"
   },
   "outputs": [
    {
     "data": {
      "text/html": [
       "<div>\n",
       "<style scoped>\n",
       "    .dataframe tbody tr th:only-of-type {\n",
       "        vertical-align: middle;\n",
       "    }\n",
       "\n",
       "    .dataframe tbody tr th {\n",
       "        vertical-align: top;\n",
       "    }\n",
       "\n",
       "    .dataframe thead th {\n",
       "        text-align: right;\n",
       "    }\n",
       "</style>\n",
       "<table border=\"1\" class=\"dataframe\">\n",
       "  <thead>\n",
       "    <tr style=\"text-align: right;\">\n",
       "      <th></th>\n",
       "      <th>Title_Description</th>\n",
       "      <th>Times_in_top_5_salary</th>\n",
       "    </tr>\n",
       "  </thead>\n",
       "  <tbody>\n",
       "    <tr>\n",
       "      <th>0</th>\n",
       "      <td>CRANE OPERATOR AMPES</td>\n",
       "      <td>4</td>\n",
       "    </tr>\n",
       "    <tr>\n",
       "      <th>1</th>\n",
       "      <td>CITY MEDICAL EXAMINER</td>\n",
       "      <td>4</td>\n",
       "    </tr>\n",
       "    <tr>\n",
       "      <th>2</th>\n",
       "      <td>SENIOR SYSTEMS ANALYSTS</td>\n",
       "      <td>3</td>\n",
       "    </tr>\n",
       "    <tr>\n",
       "      <th>3</th>\n",
       "      <td>SENIOR STATIONARY ENGINEER</td>\n",
       "      <td>3</td>\n",
       "    </tr>\n",
       "    <tr>\n",
       "      <th>4</th>\n",
       "      <td>SUPERVISOR DOCKBUILDER</td>\n",
       "      <td>3</td>\n",
       "    </tr>\n",
       "  </tbody>\n",
       "</table>\n",
       "</div>"
      ],
      "text/plain": [
       "            Title_Description  Times_in_top_5_salary\n",
       "0        CRANE OPERATOR AMPES                      4\n",
       "1       CITY MEDICAL EXAMINER                      4\n",
       "2     SENIOR SYSTEMS ANALYSTS                      3\n",
       "3  SENIOR STATIONARY ENGINEER                      3\n",
       "4      SUPERVISOR DOCKBUILDER                      3"
      ]
     },
     "execution_count": 21,
     "metadata": {},
     "output_type": "execute_result"
    }
   ],
   "source": [
    "%%bigquery --project=ba-775-b2-team-3\n",
    "WITH Top_5_AVG_Salary_by_title_year\n",
    "AS(SELECT * FROM \n",
    "\n",
    "    (SELECT \n",
    "      *, \n",
    "      ROW_NUMBER() OVER (PARTITION BY Fiscal_Year ORDER BY Avg_Total_Salary DESC) as rn\n",
    "    FROM\n",
    "      (\n",
    "      SELECT \n",
    "        Fiscal_Year,\n",
    "        CAST(AVG(Total_Salary) AS INT64 ) AS Avg_Total_Salary,\n",
    "        Title_Description,\n",
    "      FROM `ba-775-b2-team-3.NYC_Payroll.NYC_Payroll_Cleaned`\n",
    "      WHERE Title_Description IS NOT NULL\n",
    "      GROUP BY Title_Description, Fiscal_Year\n",
    "      ORDER BY Fiscal_Year ASC, Avg_Total_Salary DESC\n",
    "      )\n",
    "    )\n",
    "\n",
    "  WHERE rn >=1 and rn <=5\n",
    "  ORDER BY Fiscal_Year DESC)\n",
    "\n",
    "SELECT Title_Description, COUNT(Title_Description) AS Times_in_top_5_salary\n",
    "FROM Top_5_AVG_Salary_by_title_year\n",
    "GROUP BY Title_Description\n",
    "ORDER BY Times_in_top_5_salary DESC\n",
    "LIMIT 5\n"
   ]
  },
  {
   "cell_type": "markdown",
   "metadata": {
    "id": "db_Cboreh4f8"
   },
   "source": [
    "c. Tenure\n",
    "\n",
    "- Top tenures which makes the most salaries over 2015 - 2020\n",
    "\n",
    "- Count the number of appearances of each tenure from the Top 5 List\n",
    "\n",
    "- Diagrams of OT hours for different tenures between the 3 most recent years\n",
    "\n",
    "`Conclusion:`\n",
    "- Over the fiscal year from 2015 to 2020, the people who have stayed in their jobs for 26 years have higher salaries than others in NY States. \n",
    "\n",
    "- We can see that if the tenure of a person is around 20 - 30 years, he or she will have a higher chance of making the most money (as seen in the appearance numbers in top 5 list tenures with the highest earnings). \n",
    "\n",
    "- From the diagrams of OT hours between 3 recent years, we can see that during 2018, 2019 and 2020, the trend of OT hours will stay the same. Also, there will be a sudden peak in OT hours when the person reaches the age of 50."
   ]
  },
  {
   "cell_type": "code",
   "execution_count": null,
   "metadata": {
    "colab": {
     "base_uri": "https://localhost:8080/",
     "height": 237
    },
    "id": "dYVo2t3BvzSC",
    "outputId": "c2615e8d-6156-4740-b819-14183ccbd896"
   },
   "outputs": [
    {
     "data": {
      "text/html": [
       "<div>\n",
       "<style scoped>\n",
       "    .dataframe tbody tr th:only-of-type {\n",
       "        vertical-align: middle;\n",
       "    }\n",
       "\n",
       "    .dataframe tbody tr th {\n",
       "        vertical-align: top;\n",
       "    }\n",
       "\n",
       "    .dataframe thead th {\n",
       "        text-align: right;\n",
       "    }\n",
       "</style>\n",
       "<table border=\"1\" class=\"dataframe\">\n",
       "  <thead>\n",
       "    <tr style=\"text-align: right;\">\n",
       "      <th></th>\n",
       "      <th>Fiscal_Year</th>\n",
       "      <th>Avg_Total_Salary</th>\n",
       "      <th>Tenure</th>\n",
       "      <th>rn</th>\n",
       "    </tr>\n",
       "  </thead>\n",
       "  <tbody>\n",
       "    <tr>\n",
       "      <th>0</th>\n",
       "      <td>2020</td>\n",
       "      <td>126650</td>\n",
       "      <td>26</td>\n",
       "      <td>1</td>\n",
       "    </tr>\n",
       "    <tr>\n",
       "      <th>1</th>\n",
       "      <td>2019</td>\n",
       "      <td>123388</td>\n",
       "      <td>26</td>\n",
       "      <td>1</td>\n",
       "    </tr>\n",
       "    <tr>\n",
       "      <th>2</th>\n",
       "      <td>2018</td>\n",
       "      <td>167223</td>\n",
       "      <td>57</td>\n",
       "      <td>1</td>\n",
       "    </tr>\n",
       "    <tr>\n",
       "      <th>3</th>\n",
       "      <td>2017</td>\n",
       "      <td>125508</td>\n",
       "      <td>26</td>\n",
       "      <td>1</td>\n",
       "    </tr>\n",
       "    <tr>\n",
       "      <th>4</th>\n",
       "      <td>2016</td>\n",
       "      <td>118546</td>\n",
       "      <td>26</td>\n",
       "      <td>1</td>\n",
       "    </tr>\n",
       "    <tr>\n",
       "      <th>5</th>\n",
       "      <td>2015</td>\n",
       "      <td>115860</td>\n",
       "      <td>26</td>\n",
       "      <td>1</td>\n",
       "    </tr>\n",
       "  </tbody>\n",
       "</table>\n",
       "</div>"
      ],
      "text/plain": [
       "   Fiscal_Year  Avg_Total_Salary  Tenure  rn\n",
       "0         2020            126650      26   1\n",
       "1         2019            123388      26   1\n",
       "2         2018            167223      57   1\n",
       "3         2017            125508      26   1\n",
       "4         2016            118546      26   1\n",
       "5         2015            115860      26   1"
      ]
     },
     "execution_count": 39,
     "metadata": {},
     "output_type": "execute_result"
    }
   ],
   "source": [
    "%%bigquery --project=ba-775-b2-team-3\n",
    "SELECT * FROM \n",
    "\n",
    "  (SELECT \n",
    "    *, \n",
    "    ROW_NUMBER() OVER (PARTITION BY Fiscal_Year ORDER BY Avg_Total_Salary DESC) as rn\n",
    "  FROM(\n",
    "    SELECT \n",
    "      Fiscal_Year,\n",
    "      CAST(AVG(Total_Salary) AS INT64 ) AS Avg_Total_Salary,\n",
    "      Tenure,\n",
    "    FROM `ba-775-b2-team-3.NYC_Payroll.NYC_Payroll_Cleaned`\n",
    "    WHERE Tenure IS NOT NULL\n",
    "    AND Fiscal_Year >= 2015\n",
    "    GROUP BY Tenure, Fiscal_Year\n",
    "    ORDER BY Fiscal_Year ASC, Avg_Total_Salary DESC\n",
    "    )\n",
    "  )\n",
    "\n",
    "WHERE rn = 1\n",
    "ORDER BY Fiscal_Year DESC"
   ]
  },
  {
   "cell_type": "code",
   "execution_count": null,
   "metadata": {
    "colab": {
     "base_uri": "https://localhost:8080/",
     "height": 206
    },
    "id": "Fdztq7o7vzLG",
    "outputId": "576bc1b4-201f-453e-b652-47608de6eeb9"
   },
   "outputs": [
    {
     "data": {
      "text/html": [
       "<div>\n",
       "<style scoped>\n",
       "    .dataframe tbody tr th:only-of-type {\n",
       "        vertical-align: middle;\n",
       "    }\n",
       "\n",
       "    .dataframe tbody tr th {\n",
       "        vertical-align: top;\n",
       "    }\n",
       "\n",
       "    .dataframe thead th {\n",
       "        text-align: right;\n",
       "    }\n",
       "</style>\n",
       "<table border=\"1\" class=\"dataframe\">\n",
       "  <thead>\n",
       "    <tr style=\"text-align: right;\">\n",
       "      <th></th>\n",
       "      <th>Tenure</th>\n",
       "      <th>Appearances_in_top_5_salary</th>\n",
       "    </tr>\n",
       "  </thead>\n",
       "  <tbody>\n",
       "    <tr>\n",
       "      <th>0</th>\n",
       "      <td>26</td>\n",
       "      <td>6</td>\n",
       "    </tr>\n",
       "    <tr>\n",
       "      <th>1</th>\n",
       "      <td>30</td>\n",
       "      <td>6</td>\n",
       "    </tr>\n",
       "    <tr>\n",
       "      <th>2</th>\n",
       "      <td>24</td>\n",
       "      <td>6</td>\n",
       "    </tr>\n",
       "    <tr>\n",
       "      <th>3</th>\n",
       "      <td>27</td>\n",
       "      <td>6</td>\n",
       "    </tr>\n",
       "    <tr>\n",
       "      <th>4</th>\n",
       "      <td>29</td>\n",
       "      <td>2</td>\n",
       "    </tr>\n",
       "  </tbody>\n",
       "</table>\n",
       "</div>"
      ],
      "text/plain": [
       "   Tenure  Appearances_in_top_5_salary\n",
       "0      26                            6\n",
       "1      30                            6\n",
       "2      24                            6\n",
       "3      27                            6\n",
       "4      29                            2"
      ]
     },
     "execution_count": 34,
     "metadata": {},
     "output_type": "execute_result"
    }
   ],
   "source": [
    "%%bigquery --project=ba-775-b2-team-3\n",
    "WITH Tenure_Salary_Table\n",
    "AS(SELECT * FROM \n",
    "\n",
    "    (SELECT \n",
    "      *, \n",
    "      ROW_NUMBER() OVER (PARTITION BY Fiscal_Year ORDER BY Avg_Total_Salary DESC) as rn\n",
    "    FROM\n",
    "      (\n",
    "      SELECT \n",
    "        Fiscal_Year,\n",
    "        CAST(AVG(Total_Salary) AS INT64 ) AS Avg_Total_Salary,\n",
    "        Tenure,\n",
    "      FROM `ba-775-b2-team-3.NYC_Payroll.NYC_Payroll_Cleaned`\n",
    "      WHERE Tenure IS NOT NULL\n",
    "      GROUP BY Tenure, Fiscal_Year\n",
    "      ORDER BY Fiscal_Year ASC, Avg_Total_Salary DESC\n",
    "      )\n",
    "    )\n",
    "\n",
    "  WHERE rn >=1 and rn <=5\n",
    "  ORDER BY Fiscal_Year DESC)\n",
    "\n",
    "SELECT Tenure, COUNT(Tenure) AS Appearances_in_top_5_salary\n",
    "FROM Tenure_Salary_Table\n",
    "GROUP BY Tenure\n",
    "ORDER BY Appearances_in_top_5_salary DESC\n",
    "\n",
    "LIMIT 5\n"
   ]
  },
  {
   "cell_type": "code",
   "execution_count": null,
   "metadata": {
    "colab": {
     "base_uri": "https://localhost:8080/",
     "height": 1000
    },
    "id": "HW4zmtyNTFhr",
    "outputId": "8d5da976-f322-45fb-ada5-f7d3717ff4dd"
   },
   "outputs": [
    {
     "data": {
      "text/html": [
       "<div>\n",
       "<style scoped>\n",
       "    .dataframe tbody tr th:only-of-type {\n",
       "        vertical-align: middle;\n",
       "    }\n",
       "\n",
       "    .dataframe tbody tr th {\n",
       "        vertical-align: top;\n",
       "    }\n",
       "\n",
       "    .dataframe thead th {\n",
       "        text-align: right;\n",
       "    }\n",
       "</style>\n",
       "<table border=\"1\" class=\"dataframe\">\n",
       "  <thead>\n",
       "    <tr style=\"text-align: right;\">\n",
       "      <th></th>\n",
       "      <th>Tenure</th>\n",
       "      <th>Avg_OT_2018</th>\n",
       "      <th>Avg_OT_2019</th>\n",
       "      <th>Avg_OT_2020</th>\n",
       "    </tr>\n",
       "  </thead>\n",
       "  <tbody>\n",
       "    <tr>\n",
       "      <th>0</th>\n",
       "      <td>56</td>\n",
       "      <td>29</td>\n",
       "      <td>33</td>\n",
       "      <td>97</td>\n",
       "    </tr>\n",
       "    <tr>\n",
       "      <th>1</th>\n",
       "      <td>55</td>\n",
       "      <td>316</td>\n",
       "      <td>308</td>\n",
       "      <td>86</td>\n",
       "    </tr>\n",
       "    <tr>\n",
       "      <th>2</th>\n",
       "      <td>54</td>\n",
       "      <td>57</td>\n",
       "      <td>34</td>\n",
       "      <td>23</td>\n",
       "    </tr>\n",
       "    <tr>\n",
       "      <th>3</th>\n",
       "      <td>53</td>\n",
       "      <td>141</td>\n",
       "      <td>240</td>\n",
       "      <td>133</td>\n",
       "    </tr>\n",
       "    <tr>\n",
       "      <th>4</th>\n",
       "      <td>51</td>\n",
       "      <td>290</td>\n",
       "      <td>60</td>\n",
       "      <td>44</td>\n",
       "    </tr>\n",
       "    <tr>\n",
       "      <th>5</th>\n",
       "      <td>50</td>\n",
       "      <td>138</td>\n",
       "      <td>347</td>\n",
       "      <td>304</td>\n",
       "    </tr>\n",
       "    <tr>\n",
       "      <th>6</th>\n",
       "      <td>49</td>\n",
       "      <td>150</td>\n",
       "      <td>127</td>\n",
       "      <td>150</td>\n",
       "    </tr>\n",
       "    <tr>\n",
       "      <th>7</th>\n",
       "      <td>48</td>\n",
       "      <td>110</td>\n",
       "      <td>110</td>\n",
       "      <td>80</td>\n",
       "    </tr>\n",
       "    <tr>\n",
       "      <th>8</th>\n",
       "      <td>47</td>\n",
       "      <td>61</td>\n",
       "      <td>71</td>\n",
       "      <td>42</td>\n",
       "    </tr>\n",
       "    <tr>\n",
       "      <th>9</th>\n",
       "      <td>46</td>\n",
       "      <td>169</td>\n",
       "      <td>131</td>\n",
       "      <td>88</td>\n",
       "    </tr>\n",
       "    <tr>\n",
       "      <th>10</th>\n",
       "      <td>45</td>\n",
       "      <td>67</td>\n",
       "      <td>43</td>\n",
       "      <td>84</td>\n",
       "    </tr>\n",
       "    <tr>\n",
       "      <th>11</th>\n",
       "      <td>44</td>\n",
       "      <td>193</td>\n",
       "      <td>168</td>\n",
       "      <td>127</td>\n",
       "    </tr>\n",
       "    <tr>\n",
       "      <th>12</th>\n",
       "      <td>43</td>\n",
       "      <td>233</td>\n",
       "      <td>184</td>\n",
       "      <td>162</td>\n",
       "    </tr>\n",
       "    <tr>\n",
       "      <th>13</th>\n",
       "      <td>42</td>\n",
       "      <td>207</td>\n",
       "      <td>193</td>\n",
       "      <td>229</td>\n",
       "    </tr>\n",
       "    <tr>\n",
       "      <th>14</th>\n",
       "      <td>41</td>\n",
       "      <td>182</td>\n",
       "      <td>184</td>\n",
       "      <td>191</td>\n",
       "    </tr>\n",
       "    <tr>\n",
       "      <th>15</th>\n",
       "      <td>40</td>\n",
       "      <td>202</td>\n",
       "      <td>208</td>\n",
       "      <td>210</td>\n",
       "    </tr>\n",
       "    <tr>\n",
       "      <th>16</th>\n",
       "      <td>39</td>\n",
       "      <td>240</td>\n",
       "      <td>227</td>\n",
       "      <td>258</td>\n",
       "    </tr>\n",
       "    <tr>\n",
       "      <th>17</th>\n",
       "      <td>38</td>\n",
       "      <td>196</td>\n",
       "      <td>188</td>\n",
       "      <td>242</td>\n",
       "    </tr>\n",
       "    <tr>\n",
       "      <th>18</th>\n",
       "      <td>37</td>\n",
       "      <td>224</td>\n",
       "      <td>223</td>\n",
       "      <td>245</td>\n",
       "    </tr>\n",
       "    <tr>\n",
       "      <th>19</th>\n",
       "      <td>36</td>\n",
       "      <td>229</td>\n",
       "      <td>215</td>\n",
       "      <td>241</td>\n",
       "    </tr>\n",
       "    <tr>\n",
       "      <th>20</th>\n",
       "      <td>35</td>\n",
       "      <td>227</td>\n",
       "      <td>227</td>\n",
       "      <td>264</td>\n",
       "    </tr>\n",
       "    <tr>\n",
       "      <th>21</th>\n",
       "      <td>34</td>\n",
       "      <td>247</td>\n",
       "      <td>236</td>\n",
       "      <td>269</td>\n",
       "    </tr>\n",
       "    <tr>\n",
       "      <th>22</th>\n",
       "      <td>33</td>\n",
       "      <td>224</td>\n",
       "      <td>217</td>\n",
       "      <td>236</td>\n",
       "    </tr>\n",
       "    <tr>\n",
       "      <th>23</th>\n",
       "      <td>32</td>\n",
       "      <td>242</td>\n",
       "      <td>239</td>\n",
       "      <td>246</td>\n",
       "    </tr>\n",
       "    <tr>\n",
       "      <th>24</th>\n",
       "      <td>31</td>\n",
       "      <td>278</td>\n",
       "      <td>275</td>\n",
       "      <td>323</td>\n",
       "    </tr>\n",
       "    <tr>\n",
       "      <th>25</th>\n",
       "      <td>30</td>\n",
       "      <td>290</td>\n",
       "      <td>284</td>\n",
       "      <td>347</td>\n",
       "    </tr>\n",
       "    <tr>\n",
       "      <th>26</th>\n",
       "      <td>29</td>\n",
       "      <td>243</td>\n",
       "      <td>260</td>\n",
       "      <td>321</td>\n",
       "    </tr>\n",
       "    <tr>\n",
       "      <th>27</th>\n",
       "      <td>28</td>\n",
       "      <td>253</td>\n",
       "      <td>243</td>\n",
       "      <td>293</td>\n",
       "    </tr>\n",
       "    <tr>\n",
       "      <th>28</th>\n",
       "      <td>27</td>\n",
       "      <td>269</td>\n",
       "      <td>263</td>\n",
       "      <td>342</td>\n",
       "    </tr>\n",
       "    <tr>\n",
       "      <th>29</th>\n",
       "      <td>26</td>\n",
       "      <td>296</td>\n",
       "      <td>291</td>\n",
       "      <td>398</td>\n",
       "    </tr>\n",
       "    <tr>\n",
       "      <th>30</th>\n",
       "      <td>25</td>\n",
       "      <td>317</td>\n",
       "      <td>313</td>\n",
       "      <td>331</td>\n",
       "    </tr>\n",
       "    <tr>\n",
       "      <th>31</th>\n",
       "      <td>24</td>\n",
       "      <td>286</td>\n",
       "      <td>288</td>\n",
       "      <td>381</td>\n",
       "    </tr>\n",
       "    <tr>\n",
       "      <th>32</th>\n",
       "      <td>23</td>\n",
       "      <td>300</td>\n",
       "      <td>289</td>\n",
       "      <td>347</td>\n",
       "    </tr>\n",
       "    <tr>\n",
       "      <th>33</th>\n",
       "      <td>22</td>\n",
       "      <td>292</td>\n",
       "      <td>283</td>\n",
       "      <td>325</td>\n",
       "    </tr>\n",
       "    <tr>\n",
       "      <th>34</th>\n",
       "      <td>21</td>\n",
       "      <td>288</td>\n",
       "      <td>282</td>\n",
       "      <td>355</td>\n",
       "    </tr>\n",
       "    <tr>\n",
       "      <th>35</th>\n",
       "      <td>20</td>\n",
       "      <td>285</td>\n",
       "      <td>281</td>\n",
       "      <td>342</td>\n",
       "    </tr>\n",
       "    <tr>\n",
       "      <th>36</th>\n",
       "      <td>19</td>\n",
       "      <td>272</td>\n",
       "      <td>275</td>\n",
       "      <td>384</td>\n",
       "    </tr>\n",
       "    <tr>\n",
       "      <th>37</th>\n",
       "      <td>18</td>\n",
       "      <td>252</td>\n",
       "      <td>257</td>\n",
       "      <td>350</td>\n",
       "    </tr>\n",
       "    <tr>\n",
       "      <th>38</th>\n",
       "      <td>17</td>\n",
       "      <td>273</td>\n",
       "      <td>263</td>\n",
       "      <td>353</td>\n",
       "    </tr>\n",
       "    <tr>\n",
       "      <th>39</th>\n",
       "      <td>16</td>\n",
       "      <td>272</td>\n",
       "      <td>262</td>\n",
       "      <td>355</td>\n",
       "    </tr>\n",
       "    <tr>\n",
       "      <th>40</th>\n",
       "      <td>15</td>\n",
       "      <td>265</td>\n",
       "      <td>259</td>\n",
       "      <td>345</td>\n",
       "    </tr>\n",
       "    <tr>\n",
       "      <th>41</th>\n",
       "      <td>14</td>\n",
       "      <td>256</td>\n",
       "      <td>251</td>\n",
       "      <td>319</td>\n",
       "    </tr>\n",
       "    <tr>\n",
       "      <th>42</th>\n",
       "      <td>13</td>\n",
       "      <td>261</td>\n",
       "      <td>254</td>\n",
       "      <td>342</td>\n",
       "    </tr>\n",
       "    <tr>\n",
       "      <th>43</th>\n",
       "      <td>12</td>\n",
       "      <td>235</td>\n",
       "      <td>245</td>\n",
       "      <td>278</td>\n",
       "    </tr>\n",
       "    <tr>\n",
       "      <th>44</th>\n",
       "      <td>11</td>\n",
       "      <td>216</td>\n",
       "      <td>224</td>\n",
       "      <td>302</td>\n",
       "    </tr>\n",
       "    <tr>\n",
       "      <th>45</th>\n",
       "      <td>10</td>\n",
       "      <td>252</td>\n",
       "      <td>237</td>\n",
       "      <td>308</td>\n",
       "    </tr>\n",
       "    <tr>\n",
       "      <th>46</th>\n",
       "      <td>9</td>\n",
       "      <td>227</td>\n",
       "      <td>229</td>\n",
       "      <td>298</td>\n",
       "    </tr>\n",
       "    <tr>\n",
       "      <th>47</th>\n",
       "      <td>8</td>\n",
       "      <td>231</td>\n",
       "      <td>237</td>\n",
       "      <td>319</td>\n",
       "    </tr>\n",
       "    <tr>\n",
       "      <th>48</th>\n",
       "      <td>7</td>\n",
       "      <td>223</td>\n",
       "      <td>223</td>\n",
       "      <td>296</td>\n",
       "    </tr>\n",
       "    <tr>\n",
       "      <th>49</th>\n",
       "      <td>6</td>\n",
       "      <td>203</td>\n",
       "      <td>202</td>\n",
       "      <td>275</td>\n",
       "    </tr>\n",
       "    <tr>\n",
       "      <th>50</th>\n",
       "      <td>5</td>\n",
       "      <td>204</td>\n",
       "      <td>198</td>\n",
       "      <td>260</td>\n",
       "    </tr>\n",
       "    <tr>\n",
       "      <th>51</th>\n",
       "      <td>4</td>\n",
       "      <td>128</td>\n",
       "      <td>190</td>\n",
       "      <td>237</td>\n",
       "    </tr>\n",
       "    <tr>\n",
       "      <th>52</th>\n",
       "      <td>3</td>\n",
       "      <td>57</td>\n",
       "      <td>139</td>\n",
       "      <td>230</td>\n",
       "    </tr>\n",
       "  </tbody>\n",
       "</table>\n",
       "</div>"
      ],
      "text/plain": [
       "    Tenure  Avg_OT_2018  Avg_OT_2019  Avg_OT_2020\n",
       "0       56           29           33           97\n",
       "1       55          316          308           86\n",
       "2       54           57           34           23\n",
       "3       53          141          240          133\n",
       "4       51          290           60           44\n",
       "5       50          138          347          304\n",
       "6       49          150          127          150\n",
       "7       48          110          110           80\n",
       "8       47           61           71           42\n",
       "9       46          169          131           88\n",
       "10      45           67           43           84\n",
       "11      44          193          168          127\n",
       "12      43          233          184          162\n",
       "13      42          207          193          229\n",
       "14      41          182          184          191\n",
       "15      40          202          208          210\n",
       "16      39          240          227          258\n",
       "17      38          196          188          242\n",
       "18      37          224          223          245\n",
       "19      36          229          215          241\n",
       "20      35          227          227          264\n",
       "21      34          247          236          269\n",
       "22      33          224          217          236\n",
       "23      32          242          239          246\n",
       "24      31          278          275          323\n",
       "25      30          290          284          347\n",
       "26      29          243          260          321\n",
       "27      28          253          243          293\n",
       "28      27          269          263          342\n",
       "29      26          296          291          398\n",
       "30      25          317          313          331\n",
       "31      24          286          288          381\n",
       "32      23          300          289          347\n",
       "33      22          292          283          325\n",
       "34      21          288          282          355\n",
       "35      20          285          281          342\n",
       "36      19          272          275          384\n",
       "37      18          252          257          350\n",
       "38      17          273          263          353\n",
       "39      16          272          262          355\n",
       "40      15          265          259          345\n",
       "41      14          256          251          319\n",
       "42      13          261          254          342\n",
       "43      12          235          245          278\n",
       "44      11          216          224          302\n",
       "45      10          252          237          308\n",
       "46       9          227          229          298\n",
       "47       8          231          237          319\n",
       "48       7          223          223          296\n",
       "49       6          203          202          275\n",
       "50       5          204          198          260\n",
       "51       4          128          190          237\n",
       "52       3           57          139          230"
      ]
     },
     "execution_count": 49,
     "metadata": {},
     "output_type": "execute_result"
    }
   ],
   "source": [
    "sql = \"\"\"\n",
    "SELECT \n",
    "  data_2018.Tenure, \n",
    "  Avg_OT_2018, \n",
    "  Avg_OT_2019, \n",
    "  Avg_OT_2020 \n",
    "FROM\n",
    "  (SELECT \n",
    "      Tenure as tenure, \n",
    "      CAST (AVG (OT_Hours) AS INT64) AS Avg_OT_2018\n",
    "  FROM `ba-775-b2-team-3.NYC_Payroll.NYC_Payroll_Cleaned`\n",
    "  WHERE Fiscal_Year = 2018\n",
    "  GROUP BY Tenure\n",
    "  ORDER BY Tenure DESC) data_2018\n",
    "\n",
    "  JOIN\n",
    "\n",
    "  (SELECT \n",
    "      Tenure as tenure, \n",
    "      CAST (AVG (OT_Hours) AS INT64) AS Avg_OT_2019\n",
    "  FROM `ba-775-b2-team-3.NYC_Payroll.NYC_Payroll_Cleaned`\n",
    "  WHERE Fiscal_Year = 2019\n",
    "  GROUP BY Tenure\n",
    "  ORDER BY Tenure DESC) data_2019\n",
    "\n",
    "  ON data_2018.tenure = data_2019.tenure\n",
    "\n",
    "  JOIN\n",
    "\n",
    "  (SELECT \n",
    "      Tenure as tenure, \n",
    "      CAST (AVG (OT_Hours) AS INT64) AS Avg_OT_2020\n",
    "  FROM `ba-775-b2-team-3.NYC_Payroll.NYC_Payroll_Cleaned`\n",
    "  WHERE Fiscal_Year = 2020\n",
    "  GROUP BY Tenure\n",
    "  ORDER BY Tenure DESC) data_2020\n",
    "\n",
    "  ON data_2018.tenure = data_2020.tenure\n",
    "ORDER BY Tenure DESC\n",
    "\"\"\"\n",
    "data = client.query(sql).to_dataframe()\n",
    "data"
   ]
  },
  {
   "cell_type": "code",
   "execution_count": null,
   "metadata": {
    "colab": {
     "base_uri": "https://localhost:8080/",
     "height": 663
    },
    "id": "iqemomI4VYYa",
    "outputId": "b89f2dcc-41f8-413d-bffb-8c32126ff1b0"
   },
   "outputs": [
    {
     "data": {
      "image/png": "[encoded data removed]",
      "text/plain": [
       "<Figure size 1296x720 with 3 Axes>"
      ]
     },
     "metadata": {
      "needs_background": "light"
     },
     "output_type": "display_data"
    }
   ],
   "source": [
    "import matplotlib.pyplot as plt\n",
    "fig, (data_2018, data_2019, data_2020) = plt.subplots(3, 1, sharex=True)\n",
    "fig.suptitle('Average OT time by tenure, from 2018 to 2020')\n",
    "fig.set_figheight(10)\n",
    "fig.set_figwidth(18)\n",
    "\n",
    "data_2018.bar(data['Tenure'],data['Avg_OT_2018'])\n",
    "data_2018.set_xlabel('Tenure')\n",
    "data_2018.set_ylabel('Average OT Hours')\n",
    "data_2018.set_title('2018')\n",
    "\n",
    "data_2019.bar(data['Tenure'],data['Avg_OT_2019'])\n",
    "data_2019.set_ylabel('Average OT Hours')\n",
    "data_2019.set_title('2019')\n",
    "\n",
    "data_2020.bar(data['Tenure'],data['Avg_OT_2020'])\n",
    "data_2020.set_ylabel('Average OT Hours')\n",
    "data_2020.set_title('2020')\n",
    "\n",
    "plt.show()"
   ]
  },
  {
   "cell_type": "markdown",
   "metadata": {
    "id": "6PtfchSS-JNw"
   },
   "source": [
    "### IAMA NYC Citizen"
   ]
  },
  {
   "cell_type": "markdown",
   "metadata": {
    "id": "BWBB0JyJNqjP"
   },
   "source": [
    "#### Analyzing the NYC citizen"
   ]
  },
  {
   "cell_type": "markdown",
   "metadata": {
    "id": "QZ9n40EYNIG8"
   },
   "source": [
    "The \"NYC citizen\" will be the second type to benefit from this dataset. The \"NYC citizen\" will be interested in topics such as: How did the government spend money on salary of how many people? And the difference in spending according to locations.\n",
    "\n",
    "`Conclusions:`\n",
    "\n",
    "\n",
    "*   In 2020, the top 5 boroughs with the highest total salary includes Manhattan, Queens, Brooklyn, Bronx, and Richmond.\n",
    "*   Throughout 2015-2020, salary allocation increased the most from 2015 - 2016 with a 7.48% increase. Most increases were less than 10% with a decrease in 0.28% from 2018 to 2019.\n",
    "\n",
    "\n",
    "\n",
    "*   Manhattan, Queens, Brooklyn, Bronx and Richmond (essentially 5 boroughs of NYC) have the most number of active employees and thus having the top budget spent.\n",
    "*   The 3 most agency with the biggest spending are: Pubic Administrator Kings, Tax Commission and Fire Department. Interestingly, the two first agency only have very few number of employees with more budget spending than the whole fire department combined, which will pose some interesting questions if we decide to do more research on this matter.\n",
    "\n"
   ]
  },
  {
   "cell_type": "markdown",
   "metadata": {
    "id": "vnSDzuoEMcOl"
   },
   "source": [
    "#### Code to research on the allocation of budget through time, location, number of employees and agency "
   ]
  },
  {
   "cell_type": "markdown",
   "metadata": {
    "id": "X4vnLbiGBpJk"
   },
   "source": [
    "* Allocation of budget in different locations in the year 2020\n",
    "\n",
    "\n",
    "\n",
    "\n",
    "\n",
    "\n",
    "\n",
    "\n",
    "\n"
   ]
  },
  {
   "cell_type": "code",
   "execution_count": null,
   "metadata": {
    "colab": {
     "base_uri": "https://localhost:8080/",
     "height": 206
    },
    "id": "_r9BlYlDECXO",
    "outputId": "0480d0f2-2af0-4888-d030-511a0638eee7"
   },
   "outputs": [
    {
     "data": {
      "text/html": [
       "<div>\n",
       "<style scoped>\n",
       "    .dataframe tbody tr th:only-of-type {\n",
       "        vertical-align: middle;\n",
       "    }\n",
       "\n",
       "    .dataframe tbody tr th {\n",
       "        vertical-align: top;\n",
       "    }\n",
       "\n",
       "    .dataframe thead th {\n",
       "        text-align: right;\n",
       "    }\n",
       "</style>\n",
       "<table border=\"1\" class=\"dataframe\">\n",
       "  <thead>\n",
       "    <tr style=\"text-align: right;\">\n",
       "      <th></th>\n",
       "      <th>Work_Location_Borough</th>\n",
       "      <th>budget_allocation</th>\n",
       "    </tr>\n",
       "  </thead>\n",
       "  <tbody>\n",
       "    <tr>\n",
       "      <th>0</th>\n",
       "      <td>MANHATTAN</td>\n",
       "      <td>4278322055</td>\n",
       "    </tr>\n",
       "    <tr>\n",
       "      <th>1</th>\n",
       "      <td>QUEENS</td>\n",
       "      <td>3197360476</td>\n",
       "    </tr>\n",
       "    <tr>\n",
       "      <th>2</th>\n",
       "      <td>BROOKLYN</td>\n",
       "      <td>2853076825</td>\n",
       "    </tr>\n",
       "    <tr>\n",
       "      <th>3</th>\n",
       "      <td>BRONX</td>\n",
       "      <td>1543939975</td>\n",
       "    </tr>\n",
       "    <tr>\n",
       "      <th>4</th>\n",
       "      <td>RICHMOND</td>\n",
       "      <td>532132970</td>\n",
       "    </tr>\n",
       "  </tbody>\n",
       "</table>\n",
       "</div>"
      ],
      "text/plain": [
       "  Work_Location_Borough  budget_allocation\n",
       "0             MANHATTAN         4278322055\n",
       "1                QUEENS         3197360476\n",
       "2              BROOKLYN         2853076825\n",
       "3                 BRONX         1543939975\n",
       "4              RICHMOND          532132970"
      ]
     },
     "execution_count": 28,
     "metadata": {},
     "output_type": "execute_result"
    }
   ],
   "source": [
    "%%bigquery --project=ba-775-b2-team-3\n",
    "SELECT \n",
    "  Work_Location_Borough, \n",
    "  CAST(sum(total_salary) as int64) as budget_allocation\n",
    "FROM `ba-775-b2-team-3.NYC_Payroll.NYC_Payroll_Cleaned`\n",
    "WHERE fiscal_year = 2020\n",
    "GROUP BY Work_Location_Borough\n",
    "ORDER BY budget_allocation DESC\n",
    "\n",
    "LIMIT 5"
   ]
  },
  {
   "cell_type": "markdown",
   "metadata": {
    "id": "gcoWcn1OJr1L"
   },
   "source": [
    "* Changes in budget allocation during the years"
   ]
  },
  {
   "cell_type": "code",
   "execution_count": null,
   "metadata": {
    "colab": {
     "base_uri": "https://localhost:8080/",
     "height": 206
    },
    "id": "3Z0xut1xC7Ai",
    "outputId": "6131f8d7-a511-48ca-bc4b-9a2b981a58d5"
   },
   "outputs": [
    {
     "data": {
      "text/html": [
       "<div>\n",
       "<style scoped>\n",
       "    .dataframe tbody tr th:only-of-type {\n",
       "        vertical-align: middle;\n",
       "    }\n",
       "\n",
       "    .dataframe tbody tr th {\n",
       "        vertical-align: top;\n",
       "    }\n",
       "\n",
       "    .dataframe thead th {\n",
       "        text-align: right;\n",
       "    }\n",
       "</style>\n",
       "<table border=\"1\" class=\"dataframe\">\n",
       "  <thead>\n",
       "    <tr style=\"text-align: right;\">\n",
       "      <th></th>\n",
       "      <th>fiscal_year</th>\n",
       "      <th>budget_allocation</th>\n",
       "      <th>percent_increase</th>\n",
       "    </tr>\n",
       "  </thead>\n",
       "  <tbody>\n",
       "    <tr>\n",
       "      <th>0</th>\n",
       "      <td>2020</td>\n",
       "      <td>12455935688</td>\n",
       "      <td>6.226860</td>\n",
       "    </tr>\n",
       "    <tr>\n",
       "      <th>1</th>\n",
       "      <td>2019</td>\n",
       "      <td>11725787329</td>\n",
       "      <td>0.873917</td>\n",
       "    </tr>\n",
       "    <tr>\n",
       "      <th>2</th>\n",
       "      <td>2018</td>\n",
       "      <td>11624201470</td>\n",
       "      <td>-0.275148</td>\n",
       "    </tr>\n",
       "    <tr>\n",
       "      <th>3</th>\n",
       "      <td>2017</td>\n",
       "      <td>11656273479</td>\n",
       "      <td>6.815490</td>\n",
       "    </tr>\n",
       "    <tr>\n",
       "      <th>4</th>\n",
       "      <td>2016</td>\n",
       "      <td>10912531060</td>\n",
       "      <td>7.484181</td>\n",
       "    </tr>\n",
       "  </tbody>\n",
       "</table>\n",
       "</div>"
      ],
      "text/plain": [
       "   fiscal_year  budget_allocation  percent_increase\n",
       "0         2020        12455935688          6.226860\n",
       "1         2019        11725787329          0.873917\n",
       "2         2018        11624201470         -0.275148\n",
       "3         2017        11656273479          6.815490\n",
       "4         2016        10912531060          7.484181"
      ]
     },
     "execution_count": 30,
     "metadata": {},
     "output_type": "execute_result"
    }
   ],
   "source": [
    "%%bigquery --project=ba-775-b2-team-3\n",
    "WITH budget AS(\n",
    "SELECT \n",
    "  fiscal_year\n",
    "  , \n",
    "  CAST(SUM(total_salary) AS INT64) AS budget_allocation\n",
    "\n",
    "FROM `ba-775-b2-team-3.NYC_Payroll.NYC_Payroll_Cleaned`\n",
    "WHERE fiscal_year <> 2014\n",
    "GROUP BY Fiscal_Year)\n",
    "\n",
    "SELECT \n",
    "    fiscal_year, budget_allocation,\n",
    "    ((budget_allocation - LAG(budget_allocation,1) OVER(ORDER BY fiscal_year))/lag(budget_allocation,1) OVER(ORDER BY fiscal_year))*100 AS percent_increase\n",
    "    FROM budget \n",
    "    ORDER BY fiscal_year DESC\n",
    "\n",
    "LIMIT 5"
   ]
  },
  {
   "cell_type": "markdown",
   "metadata": {
    "id": "8oqhcW3PwWB9"
   },
   "source": [
    "* The number of people who are still employed by different locations. \n",
    "\n",
    "\n"
   ]
  },
  {
   "cell_type": "code",
   "execution_count": null,
   "metadata": {
    "colab": {
     "base_uri": "https://localhost:8080/",
     "height": 206
    },
    "id": "5RtHKLPE2bGw",
    "outputId": "fca8485e-bfd6-4204-fbbd-7dffda52f55e"
   },
   "outputs": [
    {
     "data": {
      "text/html": [
       "<div>\n",
       "<style scoped>\n",
       "    .dataframe tbody tr th:only-of-type {\n",
       "        vertical-align: middle;\n",
       "    }\n",
       "\n",
       "    .dataframe tbody tr th {\n",
       "        vertical-align: top;\n",
       "    }\n",
       "\n",
       "    .dataframe thead th {\n",
       "        text-align: right;\n",
       "    }\n",
       "</style>\n",
       "<table border=\"1\" class=\"dataframe\">\n",
       "  <thead>\n",
       "    <tr style=\"text-align: right;\">\n",
       "      <th></th>\n",
       "      <th>Work_location</th>\n",
       "      <th>Number_of_active_employees</th>\n",
       "    </tr>\n",
       "  </thead>\n",
       "  <tbody>\n",
       "    <tr>\n",
       "      <th>0</th>\n",
       "      <td>MANHATTAN</td>\n",
       "      <td>247209</td>\n",
       "    </tr>\n",
       "    <tr>\n",
       "      <th>1</th>\n",
       "      <td>QUEENS</td>\n",
       "      <td>196668</td>\n",
       "    </tr>\n",
       "    <tr>\n",
       "      <th>2</th>\n",
       "      <td>BROOKLYN</td>\n",
       "      <td>180468</td>\n",
       "    </tr>\n",
       "    <tr>\n",
       "      <th>3</th>\n",
       "      <td>BRONX</td>\n",
       "      <td>99256</td>\n",
       "    </tr>\n",
       "    <tr>\n",
       "      <th>4</th>\n",
       "      <td>RICHMOND</td>\n",
       "      <td>30953</td>\n",
       "    </tr>\n",
       "  </tbody>\n",
       "</table>\n",
       "</div>"
      ],
      "text/plain": [
       "  Work_location  Number_of_active_employees\n",
       "0     MANHATTAN                      247209\n",
       "1        QUEENS                      196668\n",
       "2      BROOKLYN                      180468\n",
       "3         BRONX                       99256\n",
       "4      RICHMOND                       30953"
      ]
     },
     "execution_count": 25,
     "metadata": {},
     "output_type": "execute_result"
    }
   ],
   "source": [
    "%%bigquery --project=ba-775-b2-team-3\n",
    "SELECT \n",
    "  UPPER(Work_Location_Borough) AS Work_location,\n",
    "  COUNT(*) AS Number_of_active_employees\n",
    "FROM `ba-775-b2-team-3.NYC_Payroll.NYC_Payroll_Cleaned`\n",
    "WHERE Leave_Status_as_of_June_30\t= \"ACTIVE\"\n",
    "GROUP BY Work_Location\n",
    "ORDER BY Number_of_Active_employees DESC\n",
    "\n",
    "LIMIT 5"
   ]
  },
  {
   "cell_type": "markdown",
   "metadata": {
    "id": "lABqM9aE6qrO"
   },
   "source": [
    "* Average base salary allocation throughout the years between 2015-2020 across various departments and the number of employees.\n",
    "\n"
   ]
  },
  {
   "cell_type": "code",
   "execution_count": null,
   "metadata": {
    "colab": {
     "base_uri": "https://localhost:8080/",
     "height": 206
    },
    "id": "gBQxMmK344H3",
    "outputId": "17ab4410-89a1-46e3-bdc1-ff4d510246e9"
   },
   "outputs": [
    {
     "data": {
      "text/html": [
       "<div>\n",
       "<style scoped>\n",
       "    .dataframe tbody tr th:only-of-type {\n",
       "        vertical-align: middle;\n",
       "    }\n",
       "\n",
       "    .dataframe tbody tr th {\n",
       "        vertical-align: top;\n",
       "    }\n",
       "\n",
       "    .dataframe thead th {\n",
       "        text-align: right;\n",
       "    }\n",
       "</style>\n",
       "<table border=\"1\" class=\"dataframe\">\n",
       "  <thead>\n",
       "    <tr style=\"text-align: right;\">\n",
       "      <th></th>\n",
       "      <th>Agency_Name</th>\n",
       "      <th>Average_Total_Salary</th>\n",
       "      <th>Number_employees</th>\n",
       "    </tr>\n",
       "  </thead>\n",
       "  <tbody>\n",
       "    <tr>\n",
       "      <th>0</th>\n",
       "      <td>PUBLIC ADMINISTRATOR-KINGS</td>\n",
       "      <td>105595.105000</td>\n",
       "      <td>2</td>\n",
       "    </tr>\n",
       "    <tr>\n",
       "      <th>1</th>\n",
       "      <td>TAX COMMISSION</td>\n",
       "      <td>103251.371415</td>\n",
       "      <td>106</td>\n",
       "    </tr>\n",
       "    <tr>\n",
       "      <th>2</th>\n",
       "      <td>FIRE DEPARTMENT</td>\n",
       "      <td>101125.346313</td>\n",
       "      <td>93857</td>\n",
       "    </tr>\n",
       "    <tr>\n",
       "      <th>3</th>\n",
       "      <td>POLICE DEPARTMENT</td>\n",
       "      <td>97374.649953</td>\n",
       "      <td>283226</td>\n",
       "    </tr>\n",
       "    <tr>\n",
       "      <th>4</th>\n",
       "      <td>DEPARTMENT OF CORRECTION</td>\n",
       "      <td>96080.970431</td>\n",
       "      <td>62221</td>\n",
       "    </tr>\n",
       "  </tbody>\n",
       "</table>\n",
       "</div>"
      ],
      "text/plain": [
       "                  Agency_Name  Average_Total_Salary  Number_employees\n",
       "0  PUBLIC ADMINISTRATOR-KINGS         105595.105000                 2\n",
       "1              TAX COMMISSION         103251.371415               106\n",
       "2             FIRE DEPARTMENT         101125.346313             93857\n",
       "3           POLICE DEPARTMENT          97374.649953            283226\n",
       "4    DEPARTMENT OF CORRECTION          96080.970431             62221"
      ]
     },
     "execution_count": 24,
     "metadata": {},
     "output_type": "execute_result"
    }
   ],
   "source": [
    "%%bigquery --project=ba-775-b2-team-3\n",
    "SELECT  \n",
    "  Agency_Name,\n",
    "  AVG(Total_salary) AS Average_Total_Salary,\n",
    "  COUNT(*) AS Number_employees,\n",
    "  # UPPER (Work_location_borough) AS Work_location_borough\n",
    "FROM `ba-775-b2-team-3.NYC_Payroll.NYC_Payroll_Cleaned`\n",
    "WHERE fiscal_year <= 2020\n",
    "AND fiscal_year >= 2015\n",
    "GROUP BY Agency_Name \n",
    "\n",
    "# Work_location_borough\n",
    "ORDER BY Average_Total_Salary DESC\n",
    "LIMIT 5"
   ]
  },
  {
   "cell_type": "markdown",
   "metadata": {
    "id": "d8IKZCewm2dD"
   },
   "source": [
    "### Machine Learning models"
   ]
  },
  {
   "cell_type": "markdown",
   "metadata": {
    "id": "4bhPM3xLqjxw"
   },
   "source": [
    "#### Create Training and Test dataset"
   ]
  },
  {
   "cell_type": "code",
   "execution_count": null,
   "metadata": {
    "id": "SMhA3q6N1PVy"
   },
   "outputs": [],
   "source": [
    "from sklearn.linear_model import LinearRegression\n",
    "import numpy as np\n",
    "import matplotlib.pyplot as plt\n",
    "import pandas as pd\n",
    "import statistics"
   ]
  },
  {
   "cell_type": "markdown",
   "metadata": {
    "id": "8dfwOqZinP0l"
   },
   "source": [
    "#### Model1 - MLR\n"
   ]
  },
  {
   "cell_type": "markdown",
   "metadata": {
    "id": "qqEhj6SmXl_R"
   },
   "source": [
    "We attempt to use model 1 to predict regular gross paid based on 3 variables: tenure, regular work hours and OT hours."
   ]
  },
  {
   "cell_type": "code",
   "execution_count": null,
   "metadata": {
    "colab": {
     "base_uri": "https://localhost:8080/"
    },
    "id": "XbsZvtQ-KniZ",
    "outputId": "45b3cc76-6962-4684-ce41-f26eb4d4978b"
   },
   "outputs": [
    {
     "name": "stdout",
     "output_type": "stream",
     "text": [
      "Authenticated\n"
     ]
    }
   ],
   "source": [
    "from google.colab import auth\n",
    "auth.authenticate_user()\n",
    "print('Authenticated')"
   ]
  },
  {
   "cell_type": "markdown",
   "metadata": {
    "id": "mEJx_IFzthkm"
   },
   "source": [
    "**Train model in Big Query Machine Learning**"
   ]
  },
  {
   "cell_type": "code",
   "execution_count": null,
   "metadata": {
    "id": "SwQEgCJfnNBh"
   },
   "outputs": [],
   "source": [
    "%%bigquery\n",
    "## Create the first multivariable linear regression model\n",
    "## use tenure, regular hours, and overtime hours (features) to predict\n",
    "## regular gross paid (label)\n",
    "CREATE OR REPLACE MODEL `ba-775-b2-team-3.NYC_Payroll.Linear_regression_1` \n",
    "​\n",
    "OPTIONS(model_type='linear_reg', \n",
    "        input_label_cols=['Regular_Gross_Paid'],\n",
    "        MAX_ITERATIONS = 20)\n",
    "AS\n",
    "SELECT \n",
    "    Tenure,\n",
    "    Regular_Hours,\n",
    "    OT_Hours,\n",
    "    Regular_Gross_Paid\n",
    "    FROM `ba-775-b2-team-3.NYC_Payroll.training_set` "
   ]
  },
  {
   "cell_type": "markdown",
   "metadata": {
    "id": "xaFWV9MitHyD"
   },
   "source": [
    "**Get Model coefficients and intercept**"
   ]
  },
  {
   "cell_type": "code",
   "execution_count": null,
   "metadata": {
    "colab": {
     "base_uri": "https://localhost:8080/",
     "height": 173
    },
    "id": "ciFGb8e1OFj8",
    "outputId": "12864c30-e901-4cf7-8a17-6951c71ca06a"
   },
   "outputs": [
    {
     "data": {
      "text/html": [
       "<div>\n",
       "<style scoped>\n",
       "    .dataframe tbody tr th:only-of-type {\n",
       "        vertical-align: middle;\n",
       "    }\n",
       "\n",
       "    .dataframe tbody tr th {\n",
       "        vertical-align: top;\n",
       "    }\n",
       "\n",
       "    .dataframe thead th {\n",
       "        text-align: right;\n",
       "    }\n",
       "</style>\n",
       "<table border=\"1\" class=\"dataframe\">\n",
       "  <thead>\n",
       "    <tr style=\"text-align: right;\">\n",
       "      <th></th>\n",
       "      <th>processed_input</th>\n",
       "      <th>weight</th>\n",
       "      <th>category_weights</th>\n",
       "    </tr>\n",
       "  </thead>\n",
       "  <tbody>\n",
       "    <tr>\n",
       "      <th>0</th>\n",
       "      <td>Tenure</td>\n",
       "      <td>1038.935899</td>\n",
       "      <td>[]</td>\n",
       "    </tr>\n",
       "    <tr>\n",
       "      <th>1</th>\n",
       "      <td>Regular_Hours</td>\n",
       "      <td>31.959902</td>\n",
       "      <td>[]</td>\n",
       "    </tr>\n",
       "    <tr>\n",
       "      <th>2</th>\n",
       "      <td>OT_Hours</td>\n",
       "      <td>11.272923</td>\n",
       "      <td>[]</td>\n",
       "    </tr>\n",
       "    <tr>\n",
       "      <th>3</th>\n",
       "      <td>__INTERCEPT__</td>\n",
       "      <td>-14602.230915</td>\n",
       "      <td>[]</td>\n",
       "    </tr>\n",
       "  </tbody>\n",
       "</table>\n",
       "</div>"
      ],
      "text/plain": [
       "  processed_input        weight category_weights\n",
       "0          Tenure   1038.935899               []\n",
       "1   Regular_Hours     31.959902               []\n",
       "2        OT_Hours     11.272923               []\n",
       "3   __INTERCEPT__ -14602.230915               []"
      ]
     },
     "execution_count": 9,
     "metadata": {},
     "output_type": "execute_result"
    }
   ],
   "source": [
    "%%bigquery --project=ba-775-b2-team-3\n",
    "SELECT\n",
    "  *\n",
    "FROM\n",
    "  ML.WEIGHTS(MODEL `ba-775-b2-team-3.NYC_Payroll.Linear_regression_1`)"
   ]
  },
  {
   "cell_type": "markdown",
   "metadata": {
    "id": "11qyNkSds7yB"
   },
   "source": [
    "**Model evaluation**"
   ]
  },
  {
   "cell_type": "code",
   "execution_count": null,
   "metadata": {
    "colab": {
     "base_uri": "https://localhost:8080/",
     "height": 80
    },
    "id": "aDQ97Ko3Qg_d",
    "outputId": "8e961257-6cdd-43d5-8756-b5f157288e6f"
   },
   "outputs": [
    {
     "data": {
      "text/html": [
       "<div>\n",
       "<style scoped>\n",
       "    .dataframe tbody tr th:only-of-type {\n",
       "        vertical-align: middle;\n",
       "    }\n",
       "\n",
       "    .dataframe tbody tr th {\n",
       "        vertical-align: top;\n",
       "    }\n",
       "\n",
       "    .dataframe thead th {\n",
       "        text-align: right;\n",
       "    }\n",
       "</style>\n",
       "<table border=\"1\" class=\"dataframe\">\n",
       "  <thead>\n",
       "    <tr style=\"text-align: right;\">\n",
       "      <th></th>\n",
       "      <th>r2_score</th>\n",
       "      <th>mean_absolute_error</th>\n",
       "      <th>root_mean_squared_error</th>\n",
       "      <th>median_absolute_error</th>\n",
       "    </tr>\n",
       "  </thead>\n",
       "  <tbody>\n",
       "    <tr>\n",
       "      <th>0</th>\n",
       "      <td>0.420902</td>\n",
       "      <td>16537.756331</td>\n",
       "      <td>20782.500519</td>\n",
       "      <td>14412.607957</td>\n",
       "    </tr>\n",
       "  </tbody>\n",
       "</table>\n",
       "</div>"
      ],
      "text/plain": [
       "   r2_score  ...  median_absolute_error\n",
       "0  0.420902  ...           14412.607957\n",
       "\n",
       "[1 rows x 4 columns]"
      ]
     },
     "execution_count": 12,
     "metadata": {},
     "output_type": "execute_result"
    }
   ],
   "source": [
    "%%bigquery --project=ba-775-b2-team-3\n",
    "SELECT r2_score, mean_absolute_error, sqrt(mean_squared_error)as root_mean_squared_error, median_absolute_error\n",
    "FROM ML.EVALUATE\n",
    "(\n",
    "    MODEL `ba-775-b2-team-3.NYC_Payroll.Linear_regression_1` ,  \n",
    "    (SELECT \n",
    "    Tenure,\n",
    "    Regular_Hours,\n",
    "    OT_Hours,\n",
    "    Regular_Gross_Paid\n",
    "    FROM `ba-775-b2-team-3.NYC_Payroll.training_set` )\n",
    ")"
   ]
  },
  {
   "cell_type": "markdown",
   "metadata": {
    "id": "bBIdkH9ReDaZ"
   },
   "source": [
    "**Conclusion**\n",
    "\n",
    "For every year increase in Tenure, the average regular gross paid is expected to increase by 1039 dollars; For every hour increase in regular hours, the  average regular gross paid is expected to increase by 32 dollars; For every hour increase in over time hours, the  average regular gross paid is expected to increase by 11 dollars.\n"
   ]
  },
  {
   "cell_type": "markdown",
   "metadata": {
    "id": "7grVt6fhe0Yx"
   },
   "source": [
    "**Limations & future improvement**\n",
    "Currently the intercept is negative, which does not make sense for people with 0 year of work experience and 0 hours to get a negative salary. Also there's a deviation between regular time pay and overtime pay, changing the weight of the coefficients could potentially solve this problem.\n",
    "Also we can do demension reduction by finding an single equation to describe Overtime hours an Tenure."
   ]
  },
  {
   "cell_type": "markdown",
   "metadata": {
    "id": "laVIQdMl1yMq"
   },
   "source": [
    "\n",
    "\n",
    "#### Model 2 - MLR with location\n",
    "\n",
    "\n"
   ]
  },
  {
   "cell_type": "markdown",
   "metadata": {
    "id": "J7OztURUX6Xs"
   },
   "source": [
    "Model 2 takes OT_hours, Regular_hours, tenure year, and each location as regression variables to determine gross salary.\n"
   ]
  },
  {
   "cell_type": "markdown",
   "metadata": {
    "id": "y3kHyWZksSAs"
   },
   "source": [
    "**Preparing data for Big Query Machine Learning**\n"
   ]
  },
  {
   "cell_type": "code",
   "execution_count": null,
   "metadata": {
    "id": "XBs-zOZO20VS"
   },
   "outputs": [],
   "source": [
    "%%bigquery location_list\n",
    "## preparing data\n",
    "SELECT \n",
    "distinct\n",
    "upper(Work_Location_Borough)\n",
    "\n",
    "from `ba-775-b2-team-3.NYC_Payroll.NYC_Payroll_Cleaned`"
   ]
  },
  {
   "cell_type": "code",
   "execution_count": null,
   "metadata": {
    "id": "2ievqKMyrYXo"
   },
   "outputs": [],
   "source": [
    "%%bigquery MLR_location\n",
    "## preparing data\n",
    "SELECT \n",
    "    Tenure,\n",
    "    Regular_Gross_Paid,\n",
    "    Regular_Hours,\n",
    "    OT_Hours,\n",
    "    Work_Location_Borough\n",
    "\n",
    "from `ba-775-b2-team-3.NYC_Payroll.training_set`"
   ]
  },
  {
   "cell_type": "code",
   "execution_count": null,
   "metadata": {
    "id": "iVIp19iXrYN8"
   },
   "outputs": [],
   "source": [
    "## preparing data\n",
    "MLR_location.rename(columns = {'Work_Location_Borough':'location'}, inplace = True)\n",
    "MLR_location['location'] = MLR_location['location'].str.upper()\n",
    "MLR_location"
   ]
  },
  {
   "cell_type": "code",
   "execution_count": null,
   "metadata": {
    "id": "b9k-PY7MrfYs"
   },
   "outputs": [],
   "source": [
    "## preparing data\n",
    "## Create boolean columns for the location dataframe\n",
    "location_list = location_list.values.tolist()\n",
    "for i in location_list:\n",
    "    MLR_location[i] = ''\n",
    "MLR_location.drop(columns=['Work_Location_Borough'])\n",
    "MLR_location"
   ]
  },
  {
   "cell_type": "code",
   "execution_count": null,
   "metadata": {
    "id": "Xh3m-Ngzrnd-"
   },
   "outputs": [],
   "source": [
    "## Nested for loop to assign dummy variable values to location columns\n",
    "## DO NOT run this line. \n",
    "## This loop takes about 65000*17 which is over 10 million iterations\n",
    "for i in range(len(MLR_location)):\n",
    "    for j in range(len(location_list)):\n",
    "            if MLR_location.iloc[i,4] == location_list[j][0]:\n",
    "                MLR_location[location_list[j][0]][i] = 1\n",
    "            else:\n",
    "                MLR_location[location_list[j][0]][i] = 0"
   ]
  },
  {
   "cell_type": "code",
   "execution_count": null,
   "metadata": {
    "id": "vXa49Mi9qjA6"
   },
   "outputs": [],
   "source": [
    "## save the prepared dataframe to Big query to train for Machine learning\n",
    "MLR_location.to_gbq('NYC_Payroll.linear_location_model', \n",
    "                 'ba-775-b2-team-3',\n",
    "                 chunksize=None, \n",
    "                 if_exists='replace'\n",
    "                 )"
   ]
  },
  {
   "cell_type": "markdown",
   "metadata": {
    "id": "95B1xBTesgwX"
   },
   "source": [
    "**Train model in Machine learning**"
   ]
  },
  {
   "cell_type": "code",
   "execution_count": null,
   "metadata": {
    "colab": {
     "base_uri": "https://localhost:8080/",
     "height": 32
    },
    "id": "8XdJtQNZsmGN",
    "outputId": "5ebc9add-b033-43ca-e640-40924eaf840e"
   },
   "outputs": [
    {
     "data": {
      "text/html": [
       "<div>\n",
       "<style scoped>\n",
       "    .dataframe tbody tr th:only-of-type {\n",
       "        vertical-align: middle;\n",
       "    }\n",
       "\n",
       "    .dataframe tbody tr th {\n",
       "        vertical-align: top;\n",
       "    }\n",
       "\n",
       "    .dataframe thead th {\n",
       "        text-align: right;\n",
       "    }\n",
       "</style>\n",
       "<table border=\"1\" class=\"dataframe\">\n",
       "  <thead>\n",
       "    <tr style=\"text-align: right;\">\n",
       "      <th></th>\n",
       "    </tr>\n",
       "  </thead>\n",
       "  <tbody>\n",
       "  </tbody>\n",
       "</table>\n",
       "</div>"
      ],
      "text/plain": [
       "Empty DataFrame\n",
       "Columns: []\n",
       "Index: []"
      ]
     },
     "execution_count": 3,
     "metadata": {},
     "output_type": "execute_result"
    }
   ],
   "source": [
    "%%bigquery --project=ba-775-b2-team-3\n",
    "##exclude Richmond to avoid perfect collinearity\n",
    "CREATE OR REPLACE MODEL  `ba-775-b2-team-3.NYC_Payroll.linear_location_model`\n",
    "OPTIONS(model_type='linear_reg', labels = ['Regular_Gross_Paid'])\n",
    "AS\n",
    "SELECT * EXCEPT(location, RICHMOND) FROM `ba-775-b2-team-3.NYC_Payroll.Location_model_data`"
   ]
  },
  {
   "cell_type": "markdown",
   "metadata": {
    "id": "Oa4O3iCGtOtD"
   },
   "source": [
    "**Get model coefficients and intercept**"
   ]
  },
  {
   "cell_type": "code",
   "execution_count": null,
   "metadata": {
    "colab": {
     "base_uri": "https://localhost:8080/",
     "height": 206
    },
    "id": "gIoLw76VtU0e",
    "outputId": "0b798a52-e0fc-43f3-ca8e-f32ae7c09b91"
   },
   "outputs": [
    {
     "data": {
      "text/html": [
       "<div>\n",
       "<style scoped>\n",
       "    .dataframe tbody tr th:only-of-type {\n",
       "        vertical-align: middle;\n",
       "    }\n",
       "\n",
       "    .dataframe tbody tr th {\n",
       "        vertical-align: top;\n",
       "    }\n",
       "\n",
       "    .dataframe thead th {\n",
       "        text-align: right;\n",
       "    }\n",
       "</style>\n",
       "<table border=\"1\" class=\"dataframe\">\n",
       "  <thead>\n",
       "    <tr style=\"text-align: right;\">\n",
       "      <th></th>\n",
       "      <th>processed_input</th>\n",
       "      <th>weight</th>\n",
       "      <th>category_weights</th>\n",
       "    </tr>\n",
       "  </thead>\n",
       "  <tbody>\n",
       "    <tr>\n",
       "      <th>0</th>\n",
       "      <td>Tenure</td>\n",
       "      <td>1029.912738</td>\n",
       "      <td>[]</td>\n",
       "    </tr>\n",
       "    <tr>\n",
       "      <th>1</th>\n",
       "      <td>Regular_Hours</td>\n",
       "      <td>32.176488</td>\n",
       "      <td>[]</td>\n",
       "    </tr>\n",
       "    <tr>\n",
       "      <th>2</th>\n",
       "      <td>OT_Hours</td>\n",
       "      <td>11.306421</td>\n",
       "      <td>[]</td>\n",
       "    </tr>\n",
       "    <tr>\n",
       "      <th>3</th>\n",
       "      <td>QUEENS</td>\n",
       "      <td>-1092.270535</td>\n",
       "      <td>[]</td>\n",
       "    </tr>\n",
       "    <tr>\n",
       "      <th>4</th>\n",
       "      <td>MANHATTAN</td>\n",
       "      <td>144.355147</td>\n",
       "      <td>[]</td>\n",
       "    </tr>\n",
       "  </tbody>\n",
       "</table>\n",
       "</div>"
      ],
      "text/plain": [
       "  processed_input       weight category_weights\n",
       "0          Tenure  1029.912738               []\n",
       "1   Regular_Hours    32.176488               []\n",
       "2        OT_Hours    11.306421               []\n",
       "3          QUEENS -1092.270535               []\n",
       "4       MANHATTAN   144.355147               []"
      ]
     },
     "execution_count": 22,
     "metadata": {},
     "output_type": "execute_result"
    }
   ],
   "source": [
    "%%bigquery --project=ba-775-b2-team-3\n",
    "SELECT\n",
    "  *\n",
    "FROM\n",
    "  ML.WEIGHTS(MODEL `ba-775-b2-team-3.NYC_Payroll.linear_location_model`)\n",
    "LIMIT 5"
   ]
  },
  {
   "cell_type": "markdown",
   "metadata": {
    "id": "NuO8CcVTsE5T"
   },
   "source": [
    "**Model evaluation**\n",
    "\n"
   ]
  },
  {
   "cell_type": "code",
   "execution_count": null,
   "metadata": {
    "colab": {
     "base_uri": "https://localhost:8080/",
     "height": 80
    },
    "id": "TtO8ArZ6r-fc",
    "outputId": "5bcd87fe-75c4-458f-9b9a-e8c74b27a31d"
   },
   "outputs": [
    {
     "data": {
      "text/html": [
       "<div>\n",
       "<style scoped>\n",
       "    .dataframe tbody tr th:only-of-type {\n",
       "        vertical-align: middle;\n",
       "    }\n",
       "\n",
       "    .dataframe tbody tr th {\n",
       "        vertical-align: top;\n",
       "    }\n",
       "\n",
       "    .dataframe thead th {\n",
       "        text-align: right;\n",
       "    }\n",
       "</style>\n",
       "<table border=\"1\" class=\"dataframe\">\n",
       "  <thead>\n",
       "    <tr style=\"text-align: right;\">\n",
       "      <th></th>\n",
       "      <th>r2_score</th>\n",
       "      <th>mean_absolute_error</th>\n",
       "      <th>root_mean_squared_error</th>\n",
       "      <th>median_absolute_error</th>\n",
       "    </tr>\n",
       "  </thead>\n",
       "  <tbody>\n",
       "    <tr>\n",
       "      <th>0</th>\n",
       "      <td>0.424451</td>\n",
       "      <td>16474.271141</td>\n",
       "      <td>20718.735388</td>\n",
       "      <td>14354.911232</td>\n",
       "    </tr>\n",
       "  </tbody>\n",
       "</table>\n",
       "</div>"
      ],
      "text/plain": [
       "   r2_score  ...  median_absolute_error\n",
       "0  0.424451  ...           14354.911232\n",
       "\n",
       "[1 rows x 4 columns]"
      ]
     },
     "execution_count": 11,
     "metadata": {},
     "output_type": "execute_result"
    }
   ],
   "source": [
    "%%bigquery --project=ba-775-b2-team-3\n",
    "SELECT r2_score, mean_absolute_error, sqrt(mean_squared_error)as root_mean_squared_error, median_absolute_error\n",
    "FROM ML.EVALUATE\n",
    "(\n",
    "    MODEL `ba-775-b2-team-3.NYC_Payroll.linear_location_model` ,  \n",
    "    table `ba-775-b2-team-3.NYC_Payroll.Location_model_data` \n",
    ")"
   ]
  },
  {
   "cell_type": "markdown",
   "metadata": {
    "id": "yaka7AsJbzSA"
   },
   "source": [
    "**Conclusion:**\n",
    "\n",
    "With location as an extra feature, our model goodness of fit only improved by 2 percent, which may suggest that location is not a great feature to include here. However, we can still get some insights from the coefficients of each location, such as the wealthness of each area."
   ]
  },
  {
   "cell_type": "markdown",
   "metadata": {
    "id": "LlQw1phO90Ww"
   },
   "source": [
    "## 4. Data visualization"
   ]
  },
  {
   "cell_type": "markdown",
   "metadata": {
    "id": "TWFec3IK9B3t"
   },
   "source": [
    "We use Tableau Online to create the dashboards and story for this dataset. We have published our work to Tableau Public in here: [Link to Tableau Public](https://public.tableau.com/views/Teamprojectfinal/PresentationStory?:language=en-US&publish=yes&:display_count=n&:origin=viz_share_link)"
   ]
  },
  {
   "cell_type": "markdown",
   "metadata": {
    "id": "slnZ_5ll8wMM"
   },
   "source": [
    "![1 Overall look.PNG](data:image/png;base64,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)"
   ]
  },
  {
   "cell_type": "markdown",
   "metadata": {
    "id": "zd9JUJ1x8zdH"
   },
   "source": [
    "![2 Jobseeker_salary_OT.PNG](data:image/png;base64,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)"
   ]
  },
  {
   "cell_type": "markdown",
   "metadata": {
    "id": "dIO1uR2x83R6"
   },
   "source": [
    "![3 Jobseeker_location_title_tenure.PNG](data:image/png;base64,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)"
   ]
  },
  {
   "cell_type": "markdown",
   "metadata": {
    "id": "LDcTInax84ye"
   },
   "source": [
    "![4 NYCcitizen_salary_noemployees.PNG](data:image/png;base64,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)"
   ]
  },
  {
   "cell_type": "markdown",
   "metadata": {
    "id": "sTwWlRm386LO"
   },
   "source": [
    "![5 NYCcitizen_percentage_location.PNG](data:image/png;base64,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)"
   ]
  },
  {
   "cell_type": "markdown",
   "metadata": {
    "id": "pjgzwhKZ_J8a"
   },
   "source": [
    "# Conclusion"
   ]
  },
  {
   "cell_type": "markdown",
   "metadata": {
    "id": "I_85h2eF_PUE"
   },
   "source": [
    "We have used full data analytics cycle and explored that dataset by being in the roles of a job seeker and an NYC citizen. By being the job seeker, we have uncovered the salary and OT time trend in New York over the year of 2014-2020, and seen the top locations, top job titles and top tenures with the highest earnings. And by being the NYC citizen, we have researched on the allocation of NYC budget over different agencies and locations, with percentage change of budget spending each year. \n",
    "\n",
    "Furthermore, we have incorporated machine learning in our dataset in order to use tenure, regular work hours, OT hours and locations to predict gross salary. We have built 2 machine learning models, one with the location variable and one without, along with our own interpretation of results in each model. Our models still have limitations, but we hope they will shed some light on further research. \n",
    "\n",
    "Last of all, for data visualization we used Tableau Online and Tableau Public to visualize our data analytics research with dashboards and story. \n",
    "\n",
    "The links to data source and Tableau public are included in this notebook."
   ]
  }
 ],
 "metadata": {
  "colab": {
   "collapsed_sections": [],
   "name": "NYC_Payroll_Budget_Spending.ipynb",
   "provenance": []
  },
  "kernelspec": {
   "display_name": "Python 3",
   "language": "python",
   "name": "python3"
  },
  "language_info": {
   "codemirror_mode": {
    "name": "ipython",
    "version": 3
   },
   "file_extension": ".py",
   "mimetype": "text/x-python",
   "name": "python",
   "nbconvert_exporter": "python",
   "pygments_lexer": "ipython3",
   "version": "3.8.5"
  }
 },
 "nbformat": 4,
 "nbformat_minor": 1
}
